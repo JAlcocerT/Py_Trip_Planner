{
 "cells": [
  {
   "cell_type": "code",
   "execution_count": 4,
   "metadata": {},
   "outputs": [],
   "source": [
    "#sudo apt install git\n",
    "#sudo apt install python3 python3-pip\n",
    "#$ python3 -m pip install ipykernel\n",
    "#pip list"
   ]
  },
  {
   "cell_type": "code",
   "execution_count": 13,
   "metadata": {},
   "outputs": [],
   "source": [
    "import dash\n",
    "from dash import html \n",
    "from dash import dcc\n",
    "from dash.dependencies import Input, Output\n",
    "\n",
    "from datetime import datetime, timedelta, date\n",
    "\n",
    "from meteostat import Point, Daily\n",
    "\n",
    "\n",
    "import plotly.express as px\n",
    "import dash_leaflet as dl\n",
    "\n",
    "from jupyter_dash import JupyterDash"
   ]
  },
  {
   "cell_type": "code",
   "execution_count": 18,
   "metadata": {},
   "outputs": [
    {
     "name": "stdout",
     "output_type": "stream",
     "text": [
      "DASH version: 2.7.0\n",
      "HTML version: 2.0.6\n",
      "Meteostat version: 1.6.5\n",
      "Plotly version: 5.11.0\n",
      "Dash Leaflet version: 0.1.23\n",
      "Jupyter DASH version: 0.4.2\n"
     ]
    }
   ],
   "source": [
    "#print the versions of the libraries\n",
    "print(f'DASH version: {dash.__version__}')\n",
    "print(f'HTML version: {html.__version__}')\n",
    "\n",
    "import meteostat\n",
    "print(f'Meteostat version: {meteostat.__version__}')\n",
    "\n",
    "import plotly\n",
    "print(f'Plotly version: {plotly.__version__}')\n",
    "print(f'Dash Leaflet version: {dl.__version__}')\n",
    "\n",
    "import jupyter_dash\n",
    "print(f'Jupyter DASH version: {jupyter_dash.__version__}')"
   ]
  },
  {
   "attachments": {},
   "cell_type": "markdown",
   "metadata": {},
   "source": [
    "## Open-Meteo"
   ]
  },
  {
   "cell_type": "code",
   "execution_count": 10,
   "metadata": {},
   "outputs": [],
   "source": [
    "#pip install openmeteo-py\n",
    "#https://pypi.org/project/openmeteo-py/"
   ]
  },
  {
   "cell_type": "code",
   "execution_count": 11,
   "metadata": {},
   "outputs": [],
   "source": [
    "#pip uninstall open-meteo\n"
   ]
  },
  {
   "cell_type": "code",
   "execution_count": 5,
   "metadata": {},
   "outputs": [
    {
     "ename": "ModuleNotFoundError",
     "evalue": "No module named 'openmeteo_py.Daily'",
     "output_type": "error",
     "traceback": [
      "\u001b[1;31m---------------------------------------------------------------------------\u001b[0m",
      "\u001b[1;31mModuleNotFoundError\u001b[0m                       Traceback (most recent call last)",
      "\u001b[1;32mC:\\Users\\JESUSA~1\\AppData\\Local\\Temp/ipykernel_22304/3142079346.py\u001b[0m in \u001b[0;36m<module>\u001b[1;34m\u001b[0m\n\u001b[1;32m----> 1\u001b[1;33m \u001b[1;32mfrom\u001b[0m \u001b[0mopenmeteo_py\u001b[0m \u001b[1;32mimport\u001b[0m \u001b[0mHourly\u001b[0m\u001b[1;33m,\u001b[0m\u001b[0mDaily\u001b[0m\u001b[1;33m,\u001b[0m\u001b[0mOptions\u001b[0m\u001b[1;33m,\u001b[0m\u001b[0mOWmanager\u001b[0m\u001b[1;33m\u001b[0m\u001b[1;33m\u001b[0m\u001b[0m\n\u001b[0m\u001b[0;32m      2\u001b[0m \u001b[1;33m\u001b[0m\u001b[0m\n\u001b[0;32m      3\u001b[0m \u001b[1;31m# Latitude, Longitude for Rabat,Morocco\u001b[0m\u001b[1;33m\u001b[0m\u001b[1;33m\u001b[0m\u001b[0m\n\u001b[0;32m      4\u001b[0m \u001b[0mlatitude\u001b[0m \u001b[1;33m=\u001b[0m \u001b[1;36m52.2\u001b[0m\u001b[1;33m\u001b[0m\u001b[1;33m\u001b[0m\u001b[0m\n\u001b[0;32m      5\u001b[0m \u001b[0mlongitude\u001b[0m \u001b[1;33m=\u001b[0m \u001b[1;36m20\u001b[0m\u001b[1;33m\u001b[0m\u001b[1;33m\u001b[0m\u001b[0m\n",
      "\u001b[1;32mc:\\Users\\Jesus Alcocer\\anaconda3\\lib\\site-packages\\openmeteo_py\\__init__.py\u001b[0m in \u001b[0;36m<module>\u001b[1;34m\u001b[0m\n\u001b[1;32m----> 1\u001b[1;33m \u001b[1;32mfrom\u001b[0m \u001b[0mopenmeteo_py\u001b[0m\u001b[1;33m.\u001b[0m\u001b[0mDaily\u001b[0m\u001b[1;33m.\u001b[0m\u001b[0mDailyForecast\u001b[0m \u001b[1;32mimport\u001b[0m \u001b[0mDailyForecast\u001b[0m\u001b[1;33m\u001b[0m\u001b[1;33m\u001b[0m\u001b[0m\n\u001b[0m\u001b[0;32m      2\u001b[0m \u001b[1;32mfrom\u001b[0m \u001b[0mopenmeteo_py\u001b[0m\u001b[1;33m.\u001b[0m\u001b[0mHourly\u001b[0m\u001b[1;33m.\u001b[0m\u001b[0mHourlyGem\u001b[0m \u001b[1;32mimport\u001b[0m \u001b[0mHourlyGem\u001b[0m\u001b[1;33m\u001b[0m\u001b[1;33m\u001b[0m\u001b[0m\n\u001b[0;32m      3\u001b[0m \u001b[1;32mfrom\u001b[0m \u001b[0mopenmeteo_py\u001b[0m\u001b[1;33m.\u001b[0m\u001b[0mOptions\u001b[0m\u001b[1;33m.\u001b[0m\u001b[0mForecastOptions\u001b[0m \u001b[1;32mimport\u001b[0m \u001b[0mForecastOptions\u001b[0m\u001b[1;33m\u001b[0m\u001b[1;33m\u001b[0m\u001b[0m\n\u001b[0;32m      4\u001b[0m \u001b[1;32mfrom\u001b[0m \u001b[0mopenmeteo_py\u001b[0m\u001b[1;33m.\u001b[0m\u001b[0mDaily\u001b[0m\u001b[1;33m.\u001b[0m\u001b[0mDailyGem\u001b[0m \u001b[1;32mimport\u001b[0m \u001b[0mDailyGem\u001b[0m\u001b[1;33m\u001b[0m\u001b[1;33m\u001b[0m\u001b[0m\n\u001b[0;32m      5\u001b[0m \u001b[1;32mfrom\u001b[0m \u001b[0mopenmeteo_py\u001b[0m\u001b[1;33m.\u001b[0m\u001b[0mHourly\u001b[0m\u001b[1;33m.\u001b[0m\u001b[0mHourlyForecast\u001b[0m \u001b[1;32mimport\u001b[0m \u001b[0mHourlyForecast\u001b[0m\u001b[1;33m\u001b[0m\u001b[1;33m\u001b[0m\u001b[0m\n",
      "\u001b[1;31mModuleNotFoundError\u001b[0m: No module named 'openmeteo_py.Daily'"
     ]
    }
   ],
   "source": [
    "from openmeteo_py import Hourly,Daily,Options,OWmanager\n",
    "\n",
    "# Latitude, Longitude for Rabat,Morocco\n",
    "latitude = 52.2\n",
    "longitude = 20\n",
    "\n",
    "hourly = Hourly()\n",
    "daily = Daily()\n",
    "options = Options(latitude,longitude)\n",
    "\n",
    "mgr = OWmanager(options,\n",
    "    hourly.all(),\n",
    "    daily.all())\n",
    "\n",
    "\n",
    "# Download data\n",
    "meteo = mgr.get_data()\n",
    "\n",
    "print(meteo)\n",
    "print(type(meteo))\n"
   ]
  },
  {
   "cell_type": "code",
   "execution_count": 17,
   "metadata": {},
   "outputs": [
    {
     "name": "stdout",
     "output_type": "stream",
     "text": [
      "{'latitude': 'float', 'longitude': 'float', 'generationtime_ms': 'float', 'utc_offset_seconds': 'int', 'timezone': 'str', 'timezone_abbreviation': 'str', 'elevation': 'float', 'hourly_units': 'dict', 'hourly': 'dict', 'daily_units': 'dict', 'daily': 'dict'}\n"
     ]
    }
   ],
   "source": [
    "def get_schema(dictionary):\n",
    "    schema = {}\n",
    "    for key, value in dictionary.items():\n",
    "        schema[key] = type(value).__name__\n",
    "    return schema\n",
    "\n",
    "dictionary = {\n",
    "    'name': 'John',\n",
    "    'age': 30,\n",
    "    'pets': ['dog', 'cat'],\n",
    "    'married': True,\n",
    "}\n",
    "\n",
    "#print(get_schema(dictionary))\n",
    "print(get_schema(meteo))"
   ]
  },
  {
   "cell_type": "code",
   "execution_count": 18,
   "metadata": {},
   "outputs": [
    {
     "name": "stdout",
     "output_type": "stream",
     "text": [
      "latitude: float\n",
      "longitude: float\n",
      "generationtime_ms: float\n",
      "utc_offset_seconds: int\n",
      "timezone: str\n",
      "timezone_abbreviation: str\n",
      "elevation: float\n",
      "hourly_units.time: str\n",
      "hourly_units.relativehumidity_2m: str\n",
      "hourly_units.dewpoint_2m: str\n",
      "hourly_units.apparent_temperature: str\n",
      "hourly_units.pressure_msl: str\n",
      "hourly_units.cloudcover: str\n",
      "hourly_units.cloudcover_low: str\n",
      "hourly_units.cloudcover_mid: str\n",
      "hourly_units.cloudcover_high: str\n",
      "hourly_units.windspeed_10m: str\n",
      "hourly_units.windspeed_80m: str\n",
      "hourly_units.windspeed_120m: str\n",
      "hourly_units.windspeed_180m: str\n",
      "hourly_units.winddirection_10m: str\n",
      "hourly_units.winddirection_80m: str\n",
      "hourly_units.winddirection_120m: str\n",
      "hourly_units.winddirection_180m: str\n",
      "hourly_units.windgusts_10m: str\n",
      "hourly_units.shortwave_radiation: str\n",
      "hourly_units.direct_radiation: str\n",
      "hourly_units.diffuse_radiation: str\n",
      "hourly_units.vapor_pressure_deficit: str\n",
      "hourly_units.evapotranspiration: str\n",
      "hourly_units.precipitation: str\n",
      "hourly_units.weathercode: str\n",
      "hourly_units.snow_height: str\n",
      "hourly_units.freezinglevel_height: str\n",
      "hourly_units.soil_temperature_0cm: str\n",
      "hourly_units.soil_temperature_6cm: str\n",
      "hourly_units.soil_temperature_18cm: str\n",
      "hourly_units.soil_temperature_54cm: str\n",
      "hourly_units.soil_moisture_0_1cm: str\n",
      "hourly_units.soil_moisture_1_3cm: str\n",
      "hourly_units.soil_moisture_3_9cm: str\n",
      "hourly_units.soil_moisture_9_27cm: str\n",
      "hourly_units.soil_moisture_27_81cm: str\n",
      "hourly.time: list\n",
      "hourly.relativehumidity_2m: list\n",
      "hourly.dewpoint_2m: list\n",
      "hourly.apparent_temperature: list\n",
      "hourly.pressure_msl: list\n",
      "hourly.cloudcover: list\n",
      "hourly.cloudcover_low: list\n",
      "hourly.cloudcover_mid: list\n",
      "hourly.cloudcover_high: list\n",
      "hourly.windspeed_10m: list\n",
      "hourly.windspeed_80m: list\n",
      "hourly.windspeed_120m: list\n",
      "hourly.windspeed_180m: list\n",
      "hourly.winddirection_10m: list\n",
      "hourly.winddirection_80m: list\n",
      "hourly.winddirection_120m: list\n",
      "hourly.winddirection_180m: list\n",
      "hourly.windgusts_10m: list\n",
      "hourly.shortwave_radiation: list\n",
      "hourly.direct_radiation: list\n",
      "hourly.diffuse_radiation: list\n",
      "hourly.vapor_pressure_deficit: list\n",
      "hourly.evapotranspiration: list\n",
      "hourly.precipitation: list\n",
      "hourly.weathercode: list\n",
      "hourly.snow_height: list\n",
      "hourly.freezinglevel_height: list\n",
      "hourly.soil_temperature_0cm: list\n",
      "hourly.soil_temperature_6cm: list\n",
      "hourly.soil_temperature_18cm: list\n",
      "hourly.soil_temperature_54cm: list\n",
      "hourly.soil_moisture_0_1cm: list\n",
      "hourly.soil_moisture_1_3cm: list\n",
      "hourly.soil_moisture_3_9cm: list\n",
      "hourly.soil_moisture_9_27cm: list\n",
      "hourly.soil_moisture_27_81cm: list\n",
      "daily_units.time: str\n",
      "daily_units.temperature_2m_max: str\n",
      "daily_units.temperature_2m_min: str\n",
      "daily_units.apparent_temperature_max: str\n",
      "daily_units.apparent_temperature_min: str\n",
      "daily_units.precipitation_sum: str\n",
      "daily_units.precipitation_hours: str\n",
      "daily_units.weathercode: str\n",
      "daily_units.sunrise: str\n",
      "daily_units.sunset: str\n",
      "daily_units.windspeed_10m_max: str\n",
      "daily_units.windgusts_10m_max: str\n",
      "daily_units.winddirection_10m_dominant: str\n",
      "daily_units.shortwave_radiation_sum: str\n",
      "daily.time: list\n",
      "daily.temperature_2m_max: list\n",
      "daily.temperature_2m_min: list\n",
      "daily.apparent_temperature_max: list\n",
      "daily.apparent_temperature_min: list\n",
      "daily.precipitation_sum: list\n",
      "daily.precipitation_hours: list\n",
      "daily.weathercode: list\n",
      "daily.sunrise: list\n",
      "daily.sunset: list\n",
      "daily.windspeed_10m_max: list\n",
      "daily.windgusts_10m_max: list\n",
      "daily.winddirection_10m_dominant: list\n",
      "daily.shortwave_radiation_sum: list\n"
     ]
    }
   ],
   "source": [
    "def get_schema(dictionary, parent_key=''):\n",
    "    schema = {}\n",
    "    for key, value in dictionary.items():\n",
    "        full_key = f'{parent_key}.{key}' if parent_key else key\n",
    "        if isinstance(value, dict):\n",
    "            schema.update(get_schema(value, full_key))\n",
    "        else:\n",
    "            schema[full_key] = type(value).__name__\n",
    "    return schema\n",
    "\n",
    "# Usage\n",
    "schema = get_schema(meteo)\n",
    "for key, value in schema.items():\n",
    "    print(f\"{key}: {value}\")\n"
   ]
  },
  {
   "cell_type": "code",
   "execution_count": 19,
   "metadata": {},
   "outputs": [],
   "source": [
    "import pandas as pd\n",
    "\n",
    "# assuming that your dictionary is called `meteo`\n",
    "daily_data = meteo[\"daily\"]\n",
    "\n",
    "# check if 'time' and 'apparent_temperature_max' are in daily_data\n",
    "if 'time' in daily_data and 'apparent_temperature_max' in daily_data:\n",
    "    df = pd.DataFrame({\n",
    "        'time': daily_data['time'],\n",
    "        'apparent_temperature_max': daily_data['apparent_temperature_max']\n",
    "    })\n",
    "else:\n",
    "    print(\"'time' or 'apparent_temperature_max' not found in daily data\")\n"
   ]
  },
  {
   "cell_type": "code",
   "execution_count": 21,
   "metadata": {},
   "outputs": [],
   "source": [
    "import pandas as pd\n",
    "\n",
    "# assuming that your dictionary is called `meteo`\n",
    "daily_data = meteo[\"daily\"]\n",
    "\n",
    "# check if 'time', 'apparent_temperature_max' and 'apparent_temperature_min' are in daily_data\n",
    "if 'time' in daily_data and 'apparent_temperature_max' in daily_data and 'apparent_temperature_min' in daily_data:\n",
    "    df_meteo = pd.DataFrame({\n",
    "        'time': daily_data['time'],\n",
    "        'apparent_temperature_max': daily_data['apparent_temperature_max'],\n",
    "        'apparent_temperature_min': daily_data['apparent_temperature_min']\n",
    "    })\n",
    "else:\n",
    "    print(\"'time', 'apparent_temperature_max' or 'apparent_temperature_min' not found in daily data\")\n"
   ]
  },
  {
   "cell_type": "code",
   "execution_count": 22,
   "metadata": {},
   "outputs": [
    {
     "data": {
      "text/html": [
       "<div>\n",
       "<style scoped>\n",
       "    .dataframe tbody tr th:only-of-type {\n",
       "        vertical-align: middle;\n",
       "    }\n",
       "\n",
       "    .dataframe tbody tr th {\n",
       "        vertical-align: top;\n",
       "    }\n",
       "\n",
       "    .dataframe thead th {\n",
       "        text-align: right;\n",
       "    }\n",
       "</style>\n",
       "<table border=\"1\" class=\"dataframe\">\n",
       "  <thead>\n",
       "    <tr style=\"text-align: right;\">\n",
       "      <th></th>\n",
       "      <th>time</th>\n",
       "      <th>apparent_temperature_max</th>\n",
       "      <th>apparent_temperature_min</th>\n",
       "    </tr>\n",
       "  </thead>\n",
       "  <tbody>\n",
       "    <tr>\n",
       "      <th>0</th>\n",
       "      <td>2023-06-22</td>\n",
       "      <td>28.2</td>\n",
       "      <td>16.3</td>\n",
       "    </tr>\n",
       "    <tr>\n",
       "      <th>1</th>\n",
       "      <td>2023-06-23</td>\n",
       "      <td>29.6</td>\n",
       "      <td>14.6</td>\n",
       "    </tr>\n",
       "    <tr>\n",
       "      <th>2</th>\n",
       "      <td>2023-06-24</td>\n",
       "      <td>20.6</td>\n",
       "      <td>14.3</td>\n",
       "    </tr>\n",
       "    <tr>\n",
       "      <th>3</th>\n",
       "      <td>2023-06-25</td>\n",
       "      <td>25.4</td>\n",
       "      <td>12.6</td>\n",
       "    </tr>\n",
       "    <tr>\n",
       "      <th>4</th>\n",
       "      <td>2023-06-26</td>\n",
       "      <td>26.6</td>\n",
       "      <td>12.6</td>\n",
       "    </tr>\n",
       "    <tr>\n",
       "      <th>5</th>\n",
       "      <td>2023-06-27</td>\n",
       "      <td>18.7</td>\n",
       "      <td>12.0</td>\n",
       "    </tr>\n",
       "    <tr>\n",
       "      <th>6</th>\n",
       "      <td>2023-06-28</td>\n",
       "      <td>22.2</td>\n",
       "      <td>11.1</td>\n",
       "    </tr>\n",
       "  </tbody>\n",
       "</table>\n",
       "</div>"
      ],
      "text/plain": [
       "         time  apparent_temperature_max  apparent_temperature_min\n",
       "0  2023-06-22                      28.2                      16.3\n",
       "1  2023-06-23                      29.6                      14.6\n",
       "2  2023-06-24                      20.6                      14.3\n",
       "3  2023-06-25                      25.4                      12.6\n",
       "4  2023-06-26                      26.6                      12.6\n",
       "5  2023-06-27                      18.7                      12.0\n",
       "6  2023-06-28                      22.2                      11.1"
      ]
     },
     "execution_count": 22,
     "metadata": {},
     "output_type": "execute_result"
    }
   ],
   "source": [
    "df_meteo"
   ]
  },
  {
   "attachments": {},
   "cell_type": "markdown",
   "metadata": {},
   "source": [
    "## Meteostat"
   ]
  },
  {
   "cell_type": "code",
   "execution_count": null,
   "metadata": {},
   "outputs": [],
   "source": [
    "#pip install meteostat\n",
    "#https://github.com/meteostat/meteostat-python"
   ]
  },
  {
   "cell_type": "code",
   "execution_count": 9,
   "metadata": {},
   "outputs": [
    {
     "name": "stdout",
     "output_type": "stream",
     "text": [
      "          name country region    wmo  icao  latitude  longitude  elevation  \\\n",
      "id                                                                           \n",
      "17300  Antalya      TR    ANT  17300  LTAI      36.7    30.7333       50.0   \n",
      "\n",
      "              timezone hourly_start hourly_end daily_start  daily_end  \\\n",
      "id                                                                      \n",
      "17300  Europe/Istanbul   1951-01-01 2023-06-20  1951-01-01 2023-06-14   \n",
      "\n",
      "      monthly_start monthly_end      distance  \n",
      "id                                             \n",
      "17300    1949-01-01  2022-01-01  24491.521703  \n",
      "<class 'pandas.core.frame.DataFrame'>\n"
     ]
    }
   ],
   "source": [
    "### The Stations Class: latitude, longitude\n",
    "#https://dev.meteostat.net/python/stations.html\n",
    "\n",
    "# Import Meteostat library\n",
    "from meteostat import Stations\n",
    "\n",
    "# Get nearby weather stations\n",
    "stations = Stations()\n",
    "stations = stations.nearby(36.92, 30.72) \n",
    "station = stations.fetch(1) #the closest station to the input location\n",
    "\n",
    "# Print DataFrame\n",
    "print(station)\n",
    "print(type(station))"
   ]
  },
  {
   "cell_type": "code",
   "execution_count": 16,
   "metadata": {},
   "outputs": [],
   "source": [
    "nearest_alt = station['latitude'].values[0]\n",
    "nearest_lon = station['longitude'].values[0]"
   ]
  },
  {
   "cell_type": "code",
   "execution_count": 14,
   "metadata": {},
   "outputs": [
    {
     "name": "stdout",
     "output_type": "stream",
     "text": [
      "            tavg  tmin  tmax  prcp  snow   wdir  wspd  wpgt    pres  tsun\n",
      "time                                                                     \n",
      "2022-01-01  14.1  12.0  16.1   NaN   NaN  335.0  11.2  13.0  1018.7   NaN\n",
      "2022-01-02  14.3  11.9  16.4   NaN   NaN    0.0  18.1  22.2  1021.5   NaN\n",
      "2022-01-03  14.2  11.4  17.9   NaN   NaN  254.0   9.9  16.7  1019.5   NaN\n",
      "2022-01-04  14.4  12.6  17.7   NaN   NaN  226.0  10.4  18.5  1015.5   NaN\n",
      "2022-01-05  15.8  12.6  18.6   NaN   NaN  199.0  25.2  20.4  1014.0   NaN\n",
      "...          ...   ...   ...   ...   ...    ...   ...   ...     ...   ...\n",
      "2022-12-27  13.6  10.7  18.3   0.0   NaN  220.0   3.8  16.7  1024.4   NaN\n",
      "2022-12-28  13.6  11.2  16.8   0.0   NaN    7.0   3.8  13.0  1024.2   NaN\n",
      "2022-12-29  13.5  10.7  16.4   0.0   NaN  356.0   7.1  13.0  1025.4   NaN\n",
      "2022-12-30  12.6   9.8  16.8   1.3   NaN  173.0   2.2  16.7  1026.5   NaN\n",
      "2022-12-31  13.0  10.4  16.3   4.3   NaN  315.0   3.5  14.8  1028.4   NaN\n",
      "\n",
      "[365 rows x 10 columns]\n",
      "<class 'pandas.core.frame.DataFrame'>\n"
     ]
    }
   ],
   "source": [
    "### The Point Class: latitude, longitude, altitude\n",
    "#https://dev.meteostat.net/python/point.html\n",
    "\n",
    "from meteostat import Point, Daily\n",
    "from datetime import datetime\n",
    "\n",
    "import plotly.express as px\n",
    "\n",
    "\n",
    "# Set time period\n",
    "start = datetime(2022, 1, 1)\n",
    "end = datetime(2022, 12, 31)\n",
    "\n",
    "# Create Point (KOS island in Greece)\n",
    "#location = Point(36.8925871 , 27.2877926, 70) #lat, long, altitude (optional)\n",
    "location = Point(36.8925871 , 27.2877926)\n",
    "\n",
    "# Get daily data\n",
    "data = Daily(location, start, end)\n",
    "data = data.fetch()\n",
    "\n",
    "print(data)\n",
    "print(type(data))"
   ]
  },
  {
   "cell_type": "code",
   "execution_count": 8,
   "metadata": {},
   "outputs": [
    {
     "data": {
      "application/vnd.plotly.v1+json": {
       "config": {
        "plotlyServerURL": "https://plot.ly"
       },
       "data": [
        {
         "hovertemplate": "variable=tmin<br>Date=%{x}<br>value=%{y}<extra></extra>",
         "legendgroup": "tmin",
         "line": {
          "color": "#636efa",
          "dash": "solid"
         },
         "marker": {
          "symbol": "circle"
         },
         "mode": "lines",
         "name": "Tmin",
         "orientation": "v",
         "showlegend": true,
         "type": "scatter",
         "x": [
          "2022-01-01T00:00:00",
          "2022-01-02T00:00:00",
          "2022-01-03T00:00:00",
          "2022-01-04T00:00:00",
          "2022-01-05T00:00:00",
          "2022-01-06T00:00:00",
          "2022-01-07T00:00:00",
          "2022-01-08T00:00:00",
          "2022-01-09T00:00:00",
          "2022-01-10T00:00:00",
          "2022-01-11T00:00:00",
          "2022-01-12T00:00:00",
          "2022-01-13T00:00:00",
          "2022-01-14T00:00:00",
          "2022-01-15T00:00:00",
          "2022-01-16T00:00:00",
          "2022-01-17T00:00:00",
          "2022-01-18T00:00:00",
          "2022-01-19T00:00:00",
          "2022-01-20T00:00:00",
          "2022-01-21T00:00:00",
          "2022-01-22T00:00:00",
          "2022-01-23T00:00:00",
          "2022-01-24T00:00:00",
          "2022-01-25T00:00:00",
          "2022-01-26T00:00:00",
          "2022-01-27T00:00:00",
          "2022-01-28T00:00:00",
          "2022-01-29T00:00:00",
          "2022-01-30T00:00:00",
          "2022-01-31T00:00:00",
          "2022-02-01T00:00:00",
          "2022-02-02T00:00:00",
          "2022-02-03T00:00:00",
          "2022-02-04T00:00:00",
          "2022-02-05T00:00:00",
          "2022-02-06T00:00:00",
          "2022-02-07T00:00:00",
          "2022-02-08T00:00:00",
          "2022-02-09T00:00:00",
          "2022-02-10T00:00:00",
          "2022-02-11T00:00:00",
          "2022-02-12T00:00:00",
          "2022-02-13T00:00:00",
          "2022-02-14T00:00:00",
          "2022-02-15T00:00:00",
          "2022-02-16T00:00:00",
          "2022-02-17T00:00:00",
          "2022-02-18T00:00:00",
          "2022-02-19T00:00:00",
          "2022-02-20T00:00:00",
          "2022-02-21T00:00:00",
          "2022-02-22T00:00:00",
          "2022-02-23T00:00:00",
          "2022-02-24T00:00:00",
          "2022-02-25T00:00:00",
          "2022-02-26T00:00:00",
          "2022-02-27T00:00:00",
          "2022-02-28T00:00:00",
          "2022-03-01T00:00:00",
          "2022-03-02T00:00:00",
          "2022-03-03T00:00:00",
          "2022-03-04T00:00:00",
          "2022-03-05T00:00:00",
          "2022-03-06T00:00:00",
          "2022-03-07T00:00:00",
          "2022-03-08T00:00:00",
          "2022-03-09T00:00:00",
          "2022-03-10T00:00:00",
          "2022-03-11T00:00:00",
          "2022-03-12T00:00:00",
          "2022-03-13T00:00:00",
          "2022-03-14T00:00:00",
          "2022-03-15T00:00:00",
          "2022-03-16T00:00:00",
          "2022-03-17T00:00:00",
          "2022-03-18T00:00:00",
          "2022-03-19T00:00:00",
          "2022-03-20T00:00:00",
          "2022-03-21T00:00:00",
          "2022-03-22T00:00:00",
          "2022-03-23T00:00:00",
          "2022-03-24T00:00:00",
          "2022-03-25T00:00:00",
          "2022-03-26T00:00:00",
          "2022-03-27T00:00:00",
          "2022-03-28T00:00:00",
          "2022-03-29T00:00:00",
          "2022-03-30T00:00:00",
          "2022-03-31T00:00:00",
          "2022-04-01T00:00:00",
          "2022-04-02T00:00:00",
          "2022-04-03T00:00:00",
          "2022-04-04T00:00:00",
          "2022-04-05T00:00:00",
          "2022-04-06T00:00:00",
          "2022-04-07T00:00:00",
          "2022-04-08T00:00:00",
          "2022-04-09T00:00:00",
          "2022-04-10T00:00:00",
          "2022-04-11T00:00:00",
          "2022-04-12T00:00:00",
          "2022-04-13T00:00:00",
          "2022-04-14T00:00:00",
          "2022-04-15T00:00:00",
          "2022-04-16T00:00:00",
          "2022-04-17T00:00:00",
          "2022-04-18T00:00:00",
          "2022-04-19T00:00:00",
          "2022-04-20T00:00:00",
          "2022-04-21T00:00:00",
          "2022-04-22T00:00:00",
          "2022-04-23T00:00:00",
          "2022-04-24T00:00:00",
          "2022-04-25T00:00:00",
          "2022-04-26T00:00:00",
          "2022-04-27T00:00:00",
          "2022-04-28T00:00:00",
          "2022-04-29T00:00:00",
          "2022-04-30T00:00:00",
          "2022-05-01T00:00:00",
          "2022-05-02T00:00:00",
          "2022-05-03T00:00:00",
          "2022-05-04T00:00:00",
          "2022-05-05T00:00:00",
          "2022-05-06T00:00:00",
          "2022-05-07T00:00:00",
          "2022-05-08T00:00:00",
          "2022-05-09T00:00:00",
          "2022-05-10T00:00:00",
          "2022-05-11T00:00:00",
          "2022-05-12T00:00:00",
          "2022-05-13T00:00:00",
          "2022-05-14T00:00:00",
          "2022-05-15T00:00:00",
          "2022-05-16T00:00:00",
          "2022-05-17T00:00:00",
          "2022-05-18T00:00:00",
          "2022-05-19T00:00:00",
          "2022-05-20T00:00:00",
          "2022-05-21T00:00:00",
          "2022-05-22T00:00:00",
          "2022-05-23T00:00:00",
          "2022-05-24T00:00:00",
          "2022-05-25T00:00:00",
          "2022-05-26T00:00:00",
          "2022-05-27T00:00:00",
          "2022-05-28T00:00:00",
          "2022-05-29T00:00:00",
          "2022-05-30T00:00:00",
          "2022-05-31T00:00:00",
          "2022-06-01T00:00:00",
          "2022-06-02T00:00:00",
          "2022-06-03T00:00:00",
          "2022-06-04T00:00:00",
          "2022-06-05T00:00:00",
          "2022-06-06T00:00:00",
          "2022-06-07T00:00:00",
          "2022-06-08T00:00:00",
          "2022-06-09T00:00:00",
          "2022-06-10T00:00:00",
          "2022-06-11T00:00:00",
          "2022-06-12T00:00:00",
          "2022-06-13T00:00:00",
          "2022-06-14T00:00:00",
          "2022-06-15T00:00:00",
          "2022-06-16T00:00:00",
          "2022-06-17T00:00:00",
          "2022-06-18T00:00:00",
          "2022-06-19T00:00:00",
          "2022-06-20T00:00:00",
          "2022-06-21T00:00:00",
          "2022-06-22T00:00:00",
          "2022-06-23T00:00:00",
          "2022-06-24T00:00:00",
          "2022-06-25T00:00:00",
          "2022-06-26T00:00:00",
          "2022-06-27T00:00:00",
          "2022-06-28T00:00:00",
          "2022-06-29T00:00:00",
          "2022-06-30T00:00:00",
          "2022-07-01T00:00:00",
          "2022-07-02T00:00:00",
          "2022-07-03T00:00:00",
          "2022-07-04T00:00:00",
          "2022-07-05T00:00:00",
          "2022-07-06T00:00:00",
          "2022-07-07T00:00:00",
          "2022-07-08T00:00:00",
          "2022-07-09T00:00:00",
          "2022-07-10T00:00:00",
          "2022-07-11T00:00:00",
          "2022-07-12T00:00:00",
          "2022-07-13T00:00:00",
          "2022-07-14T00:00:00",
          "2022-07-15T00:00:00",
          "2022-07-16T00:00:00",
          "2022-07-17T00:00:00",
          "2022-07-18T00:00:00",
          "2022-07-19T00:00:00",
          "2022-07-20T00:00:00",
          "2022-07-21T00:00:00",
          "2022-07-22T00:00:00",
          "2022-07-23T00:00:00",
          "2022-07-24T00:00:00",
          "2022-07-25T00:00:00",
          "2022-07-26T00:00:00",
          "2022-07-27T00:00:00",
          "2022-07-28T00:00:00",
          "2022-07-29T00:00:00",
          "2022-07-30T00:00:00",
          "2022-07-31T00:00:00",
          "2022-08-01T00:00:00",
          "2022-08-02T00:00:00",
          "2022-08-03T00:00:00",
          "2022-08-04T00:00:00",
          "2022-08-05T00:00:00",
          "2022-08-06T00:00:00",
          "2022-08-07T00:00:00",
          "2022-08-08T00:00:00",
          "2022-08-09T00:00:00",
          "2022-08-10T00:00:00",
          "2022-08-11T00:00:00",
          "2022-08-12T00:00:00",
          "2022-08-13T00:00:00",
          "2022-08-14T00:00:00",
          "2022-08-15T00:00:00",
          "2022-08-16T00:00:00",
          "2022-08-17T00:00:00",
          "2022-08-18T00:00:00",
          "2022-08-19T00:00:00",
          "2022-08-20T00:00:00",
          "2022-08-21T00:00:00",
          "2022-08-22T00:00:00",
          "2022-08-23T00:00:00",
          "2022-08-24T00:00:00",
          "2022-08-25T00:00:00",
          "2022-08-26T00:00:00",
          "2022-08-27T00:00:00",
          "2022-08-28T00:00:00",
          "2022-08-29T00:00:00",
          "2022-08-30T00:00:00",
          "2022-08-31T00:00:00",
          "2022-09-01T00:00:00",
          "2022-09-02T00:00:00",
          "2022-09-03T00:00:00",
          "2022-09-04T00:00:00",
          "2022-09-05T00:00:00",
          "2022-09-06T00:00:00",
          "2022-09-07T00:00:00",
          "2022-09-08T00:00:00",
          "2022-09-09T00:00:00",
          "2022-09-10T00:00:00",
          "2022-09-11T00:00:00",
          "2022-09-12T00:00:00",
          "2022-09-13T00:00:00",
          "2022-09-14T00:00:00",
          "2022-09-15T00:00:00",
          "2022-09-16T00:00:00",
          "2022-09-17T00:00:00",
          "2022-09-18T00:00:00",
          "2022-09-19T00:00:00",
          "2022-09-20T00:00:00",
          "2022-09-21T00:00:00",
          "2022-09-22T00:00:00",
          "2022-09-23T00:00:00",
          "2022-09-24T00:00:00",
          "2022-09-25T00:00:00",
          "2022-09-26T00:00:00",
          "2022-09-27T00:00:00",
          "2022-09-28T00:00:00",
          "2022-09-29T00:00:00",
          "2022-09-30T00:00:00",
          "2022-10-01T00:00:00",
          "2022-10-02T00:00:00",
          "2022-10-03T00:00:00",
          "2022-10-04T00:00:00",
          "2022-10-05T00:00:00",
          "2022-10-06T00:00:00",
          "2022-10-07T00:00:00",
          "2022-10-08T00:00:00",
          "2022-10-09T00:00:00",
          "2022-10-10T00:00:00",
          "2022-10-11T00:00:00",
          "2022-10-12T00:00:00",
          "2022-10-13T00:00:00",
          "2022-10-14T00:00:00",
          "2022-10-15T00:00:00",
          "2022-10-16T00:00:00",
          "2022-10-17T00:00:00",
          "2022-10-18T00:00:00",
          "2022-10-19T00:00:00",
          "2022-10-20T00:00:00",
          "2022-10-21T00:00:00",
          "2022-10-22T00:00:00",
          "2022-10-23T00:00:00",
          "2022-10-24T00:00:00",
          "2022-10-25T00:00:00",
          "2022-10-26T00:00:00",
          "2022-10-27T00:00:00",
          "2022-10-28T00:00:00",
          "2022-10-29T00:00:00",
          "2022-10-30T00:00:00",
          "2022-10-31T00:00:00",
          "2022-11-01T00:00:00",
          "2022-11-02T00:00:00",
          "2022-11-03T00:00:00",
          "2022-11-04T00:00:00",
          "2022-11-05T00:00:00",
          "2022-11-06T00:00:00",
          "2022-11-07T00:00:00",
          "2022-11-08T00:00:00",
          "2022-11-09T00:00:00",
          "2022-11-10T00:00:00",
          "2022-11-11T00:00:00",
          "2022-11-12T00:00:00",
          "2022-11-13T00:00:00",
          "2022-11-14T00:00:00",
          "2022-11-15T00:00:00",
          "2022-11-16T00:00:00",
          "2022-11-17T00:00:00",
          "2022-11-18T00:00:00",
          "2022-11-19T00:00:00",
          "2022-11-20T00:00:00",
          "2022-11-21T00:00:00",
          "2022-11-22T00:00:00",
          "2022-11-23T00:00:00",
          "2022-11-24T00:00:00",
          "2022-11-25T00:00:00",
          "2022-11-26T00:00:00",
          "2022-11-27T00:00:00",
          "2022-11-28T00:00:00",
          "2022-11-29T00:00:00",
          "2022-11-30T00:00:00",
          "2022-12-01T00:00:00",
          "2022-12-02T00:00:00",
          "2022-12-03T00:00:00",
          "2022-12-04T00:00:00",
          "2022-12-05T00:00:00",
          "2022-12-06T00:00:00",
          "2022-12-07T00:00:00",
          "2022-12-08T00:00:00",
          "2022-12-09T00:00:00",
          "2022-12-10T00:00:00",
          "2022-12-11T00:00:00",
          "2022-12-12T00:00:00",
          "2022-12-13T00:00:00",
          "2022-12-14T00:00:00",
          "2022-12-15T00:00:00",
          "2022-12-16T00:00:00",
          "2022-12-17T00:00:00",
          "2022-12-18T00:00:00",
          "2022-12-19T00:00:00",
          "2022-12-20T00:00:00",
          "2022-12-21T00:00:00",
          "2022-12-22T00:00:00",
          "2022-12-23T00:00:00",
          "2022-12-24T00:00:00",
          "2022-12-25T00:00:00",
          "2022-12-26T00:00:00",
          "2022-12-27T00:00:00",
          "2022-12-28T00:00:00",
          "2022-12-29T00:00:00",
          "2022-12-30T00:00:00",
          "2022-12-31T00:00:00"
         ],
         "xaxis": "x",
         "y": [
          11.7,
          12.3,
          10.6,
          12.6,
          14.8,
          16.3,
          13.2,
          13.2,
          9.8,
          11.7,
          12.4,
          10.1,
          6.9,
          5.2,
          7,
          5.6,
          3.5,
          5.8,
          3.6,
          2.5,
          9.8,
          6.7,
          2,
          0.6,
          2.6,
          1.7,
          2.6,
          4.2,
          5.3,
          9.7,
          8.3,
          8,
          14.2,
          10.3,
          8,
          6.4,
          8,
          8.9,
          8.4,
          6.5,
          6.1,
          7.7,
          10,
          10.7,
          8.4,
          8.1,
          8.4,
          10.8,
          11.7,
          9.3,
          10.3,
          13.4,
          14.5,
          12.3,
          9.5,
          8.5,
          8.4,
          9,
          10.7,
          9.8,
          7.1,
          6.2,
          5.9,
          9.6,
          12.5,
          10.7,
          9.2,
          8.5,
          4.6,
          2.7,
          0.8,
          1,
          3.4,
          4.5,
          6.3,
          8.4,
          6.1,
          2.3,
          2.3,
          5.3,
          6.1,
          5.8,
          7.4,
          8.9,
          10.4,
          9.9,
          10.7,
          14,
          12.2,
          13.4,
          16.7,
          16.3,
          14.1,
          12.6,
          12.9,
          14.6,
          15.3,
          14.3,
          13.2,
          14.4,
          11.8,
          9.7,
          11.1,
          12.3,
          12.3,
          14,
          18.7,
          14.7,
          12.6,
          11.1,
          11.8,
          13.4,
          15,
          14.9,
          15.4,
          15.4,
          16.1,
          17.1,
          16.5,
          18.8,
          15.5,
          17.4,
          16.6,
          15.2,
          14,
          15.9,
          16,
          15.7,
          15.7,
          15.5,
          14.7,
          15.7,
          16.7,
          15.5,
          16.9,
          18.8,
          20.2,
          18.7,
          18.6,
          17.7,
          17.4,
          19.6,
          18.9,
          18.7,
          20.2,
          22.1,
          20.8,
          21.4,
          21.1,
          20.1,
          19.3,
          22,
          22.4,
          22.2,
          21.4,
          21.4,
          21.9,
          22.1,
          20.5,
          19.9,
          21.1,
          20.6,
          19.9,
          20.4,
          22.7,
          22.4,
          22.8,
          23.2,
          22.9,
          22.7,
          21.9,
          21.2,
          24.1,
          25.5,
          24.9,
          23.6,
          24.4,
          24.1,
          24.6,
          24.6,
          24.3,
          24,
          26.7,
          26.7,
          24.6,
          23.4,
          23.7,
          24.7,
          25.1,
          24,
          21.9,
          24.1,
          24.7,
          24.5,
          24.2,
          23.4,
          24,
          26.4,
          27.2,
          26.4,
          25.3,
          24.6,
          25.8,
          25.7,
          26.6,
          26.6,
          26.8,
          24.9,
          24.3,
          24.4,
          25.8,
          24.6,
          27,
          26.9,
          25.8,
          24.5,
          24.6,
          24.7,
          24.6,
          25.2,
          25.2,
          25.1,
          25.6,
          25.5,
          25.4,
          23.8,
          23.4,
          23.2,
          24.6,
          26.1,
          28.2,
          28.3,
          25.3,
          24,
          23.8,
          23.8,
          23,
          22.7,
          22.4,
          23.2,
          25.3,
          24.5,
          23.9,
          23.9,
          23.7,
          24,
          25.3,
          26.3,
          25,
          23.9,
          23.2,
          23,
          23.4,
          24.7,
          24,
          23.8,
          22.6,
          22,
          22.1,
          21.6,
          21.3,
          22.1,
          21.4,
          21.3,
          19.5,
          16.8,
          17.9,
          17.6,
          18,
          16.9,
          23.2,
          23.5,
          23.4,
          23.2,
          23.7,
          22,
          21.6,
          18.8,
          19,
          19.7,
          18.6,
          18.5,
          19.1,
          18.3,
          18.1,
          18.3,
          18.3,
          17.7,
          18.1,
          19.2,
          19.7,
          18.3,
          17.2,
          18.3,
          16.5,
          14.8,
          16.6,
          18.5,
          17.4,
          18.1,
          18,
          17.2,
          15.7,
          15.4,
          15.6,
          16.8,
          16.4,
          16.7,
          16.6,
          16,
          15.9,
          14.6,
          14.7,
          14.3,
          15,
          13.9,
          14.5,
          14,
          12.7,
          12.3,
          15.7,
          19,
          19.5,
          20,
          17.3,
          15.6,
          15,
          13.6,
          12.5,
          11.2,
          12.1,
          12.7,
          12.7,
          13.6,
          11.8,
          13.3,
          13.6,
          11.8,
          12.2,
          11.9,
          11.1,
          14.3,
          16.8,
          18.3,
          17.1,
          16.4,
          15.6,
          14.3,
          14,
          18.3,
          17.9,
          15.4,
          13.7,
          10.5,
          9.4,
          10.2,
          11.5,
          11.6,
          11.7,
          11.5,
          10.7,
          11.2,
          12.7,
          12.3,
          12.8
         ],
         "yaxis": "y"
        },
        {
         "hovertemplate": "variable=tmax<br>Date=%{x}<br>value=%{y}<extra></extra>",
         "legendgroup": "tmax",
         "line": {
          "color": "#EF553B",
          "dash": "solid"
         },
         "marker": {
          "symbol": "circle"
         },
         "mode": "lines",
         "name": "Tmax",
         "orientation": "v",
         "showlegend": true,
         "type": "scatter",
         "x": [
          "2022-01-01T00:00:00",
          "2022-01-02T00:00:00",
          "2022-01-03T00:00:00",
          "2022-01-04T00:00:00",
          "2022-01-05T00:00:00",
          "2022-01-06T00:00:00",
          "2022-01-07T00:00:00",
          "2022-01-08T00:00:00",
          "2022-01-09T00:00:00",
          "2022-01-10T00:00:00",
          "2022-01-11T00:00:00",
          "2022-01-12T00:00:00",
          "2022-01-13T00:00:00",
          "2022-01-14T00:00:00",
          "2022-01-15T00:00:00",
          "2022-01-16T00:00:00",
          "2022-01-17T00:00:00",
          "2022-01-18T00:00:00",
          "2022-01-19T00:00:00",
          "2022-01-20T00:00:00",
          "2022-01-21T00:00:00",
          "2022-01-22T00:00:00",
          "2022-01-23T00:00:00",
          "2022-01-24T00:00:00",
          "2022-01-25T00:00:00",
          "2022-01-26T00:00:00",
          "2022-01-27T00:00:00",
          "2022-01-28T00:00:00",
          "2022-01-29T00:00:00",
          "2022-01-30T00:00:00",
          "2022-01-31T00:00:00",
          "2022-02-01T00:00:00",
          "2022-02-02T00:00:00",
          "2022-02-03T00:00:00",
          "2022-02-04T00:00:00",
          "2022-02-05T00:00:00",
          "2022-02-06T00:00:00",
          "2022-02-07T00:00:00",
          "2022-02-08T00:00:00",
          "2022-02-09T00:00:00",
          "2022-02-10T00:00:00",
          "2022-02-11T00:00:00",
          "2022-02-12T00:00:00",
          "2022-02-13T00:00:00",
          "2022-02-14T00:00:00",
          "2022-02-15T00:00:00",
          "2022-02-16T00:00:00",
          "2022-02-17T00:00:00",
          "2022-02-18T00:00:00",
          "2022-02-19T00:00:00",
          "2022-02-20T00:00:00",
          "2022-02-21T00:00:00",
          "2022-02-22T00:00:00",
          "2022-02-23T00:00:00",
          "2022-02-24T00:00:00",
          "2022-02-25T00:00:00",
          "2022-02-26T00:00:00",
          "2022-02-27T00:00:00",
          "2022-02-28T00:00:00",
          "2022-03-01T00:00:00",
          "2022-03-02T00:00:00",
          "2022-03-03T00:00:00",
          "2022-03-04T00:00:00",
          "2022-03-05T00:00:00",
          "2022-03-06T00:00:00",
          "2022-03-07T00:00:00",
          "2022-03-08T00:00:00",
          "2022-03-09T00:00:00",
          "2022-03-10T00:00:00",
          "2022-03-11T00:00:00",
          "2022-03-12T00:00:00",
          "2022-03-13T00:00:00",
          "2022-03-14T00:00:00",
          "2022-03-15T00:00:00",
          "2022-03-16T00:00:00",
          "2022-03-17T00:00:00",
          "2022-03-18T00:00:00",
          "2022-03-19T00:00:00",
          "2022-03-20T00:00:00",
          "2022-03-21T00:00:00",
          "2022-03-22T00:00:00",
          "2022-03-23T00:00:00",
          "2022-03-24T00:00:00",
          "2022-03-25T00:00:00",
          "2022-03-26T00:00:00",
          "2022-03-27T00:00:00",
          "2022-03-28T00:00:00",
          "2022-03-29T00:00:00",
          "2022-03-30T00:00:00",
          "2022-03-31T00:00:00",
          "2022-04-01T00:00:00",
          "2022-04-02T00:00:00",
          "2022-04-03T00:00:00",
          "2022-04-04T00:00:00",
          "2022-04-05T00:00:00",
          "2022-04-06T00:00:00",
          "2022-04-07T00:00:00",
          "2022-04-08T00:00:00",
          "2022-04-09T00:00:00",
          "2022-04-10T00:00:00",
          "2022-04-11T00:00:00",
          "2022-04-12T00:00:00",
          "2022-04-13T00:00:00",
          "2022-04-14T00:00:00",
          "2022-04-15T00:00:00",
          "2022-04-16T00:00:00",
          "2022-04-17T00:00:00",
          "2022-04-18T00:00:00",
          "2022-04-19T00:00:00",
          "2022-04-20T00:00:00",
          "2022-04-21T00:00:00",
          "2022-04-22T00:00:00",
          "2022-04-23T00:00:00",
          "2022-04-24T00:00:00",
          "2022-04-25T00:00:00",
          "2022-04-26T00:00:00",
          "2022-04-27T00:00:00",
          "2022-04-28T00:00:00",
          "2022-04-29T00:00:00",
          "2022-04-30T00:00:00",
          "2022-05-01T00:00:00",
          "2022-05-02T00:00:00",
          "2022-05-03T00:00:00",
          "2022-05-04T00:00:00",
          "2022-05-05T00:00:00",
          "2022-05-06T00:00:00",
          "2022-05-07T00:00:00",
          "2022-05-08T00:00:00",
          "2022-05-09T00:00:00",
          "2022-05-10T00:00:00",
          "2022-05-11T00:00:00",
          "2022-05-12T00:00:00",
          "2022-05-13T00:00:00",
          "2022-05-14T00:00:00",
          "2022-05-15T00:00:00",
          "2022-05-16T00:00:00",
          "2022-05-17T00:00:00",
          "2022-05-18T00:00:00",
          "2022-05-19T00:00:00",
          "2022-05-20T00:00:00",
          "2022-05-21T00:00:00",
          "2022-05-22T00:00:00",
          "2022-05-23T00:00:00",
          "2022-05-24T00:00:00",
          "2022-05-25T00:00:00",
          "2022-05-26T00:00:00",
          "2022-05-27T00:00:00",
          "2022-05-28T00:00:00",
          "2022-05-29T00:00:00",
          "2022-05-30T00:00:00",
          "2022-05-31T00:00:00",
          "2022-06-01T00:00:00",
          "2022-06-02T00:00:00",
          "2022-06-03T00:00:00",
          "2022-06-04T00:00:00",
          "2022-06-05T00:00:00",
          "2022-06-06T00:00:00",
          "2022-06-07T00:00:00",
          "2022-06-08T00:00:00",
          "2022-06-09T00:00:00",
          "2022-06-10T00:00:00",
          "2022-06-11T00:00:00",
          "2022-06-12T00:00:00",
          "2022-06-13T00:00:00",
          "2022-06-14T00:00:00",
          "2022-06-15T00:00:00",
          "2022-06-16T00:00:00",
          "2022-06-17T00:00:00",
          "2022-06-18T00:00:00",
          "2022-06-19T00:00:00",
          "2022-06-20T00:00:00",
          "2022-06-21T00:00:00",
          "2022-06-22T00:00:00",
          "2022-06-23T00:00:00",
          "2022-06-24T00:00:00",
          "2022-06-25T00:00:00",
          "2022-06-26T00:00:00",
          "2022-06-27T00:00:00",
          "2022-06-28T00:00:00",
          "2022-06-29T00:00:00",
          "2022-06-30T00:00:00",
          "2022-07-01T00:00:00",
          "2022-07-02T00:00:00",
          "2022-07-03T00:00:00",
          "2022-07-04T00:00:00",
          "2022-07-05T00:00:00",
          "2022-07-06T00:00:00",
          "2022-07-07T00:00:00",
          "2022-07-08T00:00:00",
          "2022-07-09T00:00:00",
          "2022-07-10T00:00:00",
          "2022-07-11T00:00:00",
          "2022-07-12T00:00:00",
          "2022-07-13T00:00:00",
          "2022-07-14T00:00:00",
          "2022-07-15T00:00:00",
          "2022-07-16T00:00:00",
          "2022-07-17T00:00:00",
          "2022-07-18T00:00:00",
          "2022-07-19T00:00:00",
          "2022-07-20T00:00:00",
          "2022-07-21T00:00:00",
          "2022-07-22T00:00:00",
          "2022-07-23T00:00:00",
          "2022-07-24T00:00:00",
          "2022-07-25T00:00:00",
          "2022-07-26T00:00:00",
          "2022-07-27T00:00:00",
          "2022-07-28T00:00:00",
          "2022-07-29T00:00:00",
          "2022-07-30T00:00:00",
          "2022-07-31T00:00:00",
          "2022-08-01T00:00:00",
          "2022-08-02T00:00:00",
          "2022-08-03T00:00:00",
          "2022-08-04T00:00:00",
          "2022-08-05T00:00:00",
          "2022-08-06T00:00:00",
          "2022-08-07T00:00:00",
          "2022-08-08T00:00:00",
          "2022-08-09T00:00:00",
          "2022-08-10T00:00:00",
          "2022-08-11T00:00:00",
          "2022-08-12T00:00:00",
          "2022-08-13T00:00:00",
          "2022-08-14T00:00:00",
          "2022-08-15T00:00:00",
          "2022-08-16T00:00:00",
          "2022-08-17T00:00:00",
          "2022-08-18T00:00:00",
          "2022-08-19T00:00:00",
          "2022-08-20T00:00:00",
          "2022-08-21T00:00:00",
          "2022-08-22T00:00:00",
          "2022-08-23T00:00:00",
          "2022-08-24T00:00:00",
          "2022-08-25T00:00:00",
          "2022-08-26T00:00:00",
          "2022-08-27T00:00:00",
          "2022-08-28T00:00:00",
          "2022-08-29T00:00:00",
          "2022-08-30T00:00:00",
          "2022-08-31T00:00:00",
          "2022-09-01T00:00:00",
          "2022-09-02T00:00:00",
          "2022-09-03T00:00:00",
          "2022-09-04T00:00:00",
          "2022-09-05T00:00:00",
          "2022-09-06T00:00:00",
          "2022-09-07T00:00:00",
          "2022-09-08T00:00:00",
          "2022-09-09T00:00:00",
          "2022-09-10T00:00:00",
          "2022-09-11T00:00:00",
          "2022-09-12T00:00:00",
          "2022-09-13T00:00:00",
          "2022-09-14T00:00:00",
          "2022-09-15T00:00:00",
          "2022-09-16T00:00:00",
          "2022-09-17T00:00:00",
          "2022-09-18T00:00:00",
          "2022-09-19T00:00:00",
          "2022-09-20T00:00:00",
          "2022-09-21T00:00:00",
          "2022-09-22T00:00:00",
          "2022-09-23T00:00:00",
          "2022-09-24T00:00:00",
          "2022-09-25T00:00:00",
          "2022-09-26T00:00:00",
          "2022-09-27T00:00:00",
          "2022-09-28T00:00:00",
          "2022-09-29T00:00:00",
          "2022-09-30T00:00:00",
          "2022-10-01T00:00:00",
          "2022-10-02T00:00:00",
          "2022-10-03T00:00:00",
          "2022-10-04T00:00:00",
          "2022-10-05T00:00:00",
          "2022-10-06T00:00:00",
          "2022-10-07T00:00:00",
          "2022-10-08T00:00:00",
          "2022-10-09T00:00:00",
          "2022-10-10T00:00:00",
          "2022-10-11T00:00:00",
          "2022-10-12T00:00:00",
          "2022-10-13T00:00:00",
          "2022-10-14T00:00:00",
          "2022-10-15T00:00:00",
          "2022-10-16T00:00:00",
          "2022-10-17T00:00:00",
          "2022-10-18T00:00:00",
          "2022-10-19T00:00:00",
          "2022-10-20T00:00:00",
          "2022-10-21T00:00:00",
          "2022-10-22T00:00:00",
          "2022-10-23T00:00:00",
          "2022-10-24T00:00:00",
          "2022-10-25T00:00:00",
          "2022-10-26T00:00:00",
          "2022-10-27T00:00:00",
          "2022-10-28T00:00:00",
          "2022-10-29T00:00:00",
          "2022-10-30T00:00:00",
          "2022-10-31T00:00:00",
          "2022-11-01T00:00:00",
          "2022-11-02T00:00:00",
          "2022-11-03T00:00:00",
          "2022-11-04T00:00:00",
          "2022-11-05T00:00:00",
          "2022-11-06T00:00:00",
          "2022-11-07T00:00:00",
          "2022-11-08T00:00:00",
          "2022-11-09T00:00:00",
          "2022-11-10T00:00:00",
          "2022-11-11T00:00:00",
          "2022-11-12T00:00:00",
          "2022-11-13T00:00:00",
          "2022-11-14T00:00:00",
          "2022-11-15T00:00:00",
          "2022-11-16T00:00:00",
          "2022-11-17T00:00:00",
          "2022-11-18T00:00:00",
          "2022-11-19T00:00:00",
          "2022-11-20T00:00:00",
          "2022-11-21T00:00:00",
          "2022-11-22T00:00:00",
          "2022-11-23T00:00:00",
          "2022-11-24T00:00:00",
          "2022-11-25T00:00:00",
          "2022-11-26T00:00:00",
          "2022-11-27T00:00:00",
          "2022-11-28T00:00:00",
          "2022-11-29T00:00:00",
          "2022-11-30T00:00:00",
          "2022-12-01T00:00:00",
          "2022-12-02T00:00:00",
          "2022-12-03T00:00:00",
          "2022-12-04T00:00:00",
          "2022-12-05T00:00:00",
          "2022-12-06T00:00:00",
          "2022-12-07T00:00:00",
          "2022-12-08T00:00:00",
          "2022-12-09T00:00:00",
          "2022-12-10T00:00:00",
          "2022-12-11T00:00:00",
          "2022-12-12T00:00:00",
          "2022-12-13T00:00:00",
          "2022-12-14T00:00:00",
          "2022-12-15T00:00:00",
          "2022-12-16T00:00:00",
          "2022-12-17T00:00:00",
          "2022-12-18T00:00:00",
          "2022-12-19T00:00:00",
          "2022-12-20T00:00:00",
          "2022-12-21T00:00:00",
          "2022-12-22T00:00:00",
          "2022-12-23T00:00:00",
          "2022-12-24T00:00:00",
          "2022-12-25T00:00:00",
          "2022-12-26T00:00:00",
          "2022-12-27T00:00:00",
          "2022-12-28T00:00:00",
          "2022-12-29T00:00:00",
          "2022-12-30T00:00:00",
          "2022-12-31T00:00:00"
         ],
         "xaxis": "x",
         "y": [
          18,
          18.6,
          18.5,
          17.9,
          18.5,
          19.8,
          17.8,
          18.4,
          14.8,
          14.5,
          18.9,
          15,
          12.2,
          12.2,
          14.5,
          11.5,
          13.2,
          11.4,
          8.1,
          12.1,
          15.9,
          13.5,
          5.7,
          8.5,
          8.1,
          6.9,
          10.2,
          10.1,
          14,
          14.8,
          14.1,
          16.1,
          17.1,
          14.3,
          12.7,
          15.5,
          16,
          16.5,
          16,
          10,
          14,
          17.2,
          17.3,
          14.8,
          14.7,
          15.2,
          17.4,
          17,
          17.9,
          17.8,
          17.9,
          18,
          18.4,
          17.8,
          13.4,
          13.8,
          16.7,
          16,
          15.3,
          13.5,
          10.3,
          12.1,
          11.6,
          14.6,
          17.2,
          16.5,
          14.8,
          14.4,
          10.8,
          8.1,
          8.3,
          9.5,
          12,
          12.6,
          14,
          17.9,
          11.3,
          10,
          12.8,
          14.7,
          14.1,
          16.7,
          15.7,
          20.4,
          19.7,
          21.5,
          20.7,
          19.7,
          19.7,
          19.1,
          22.5,
          22.3,
          21.1,
          19.5,
          24.3,
          23.8,
          24.7,
          23.1,
          20.5,
          22.4,
          17.1,
          18.4,
          20.2,
          21,
          23,
          25.7,
          24.8,
          22.3,
          19.7,
          19.8,
          19.8,
          22.5,
          24.3,
          27.4,
          26.7,
          24.8,
          28.6,
          27.5,
          24.5,
          25.7,
          25.5,
          21.1,
          22.7,
          21.7,
          24.7,
          24.5,
          27.6,
          24.4,
          26.5,
          26.2,
          25.3,
          26.9,
          23.7,
          26.2,
          29.4,
          31.1,
          31.4,
          26,
          25.4,
          25.6,
          27.9,
          28.3,
          31.4,
          29,
          33.7,
          35.4,
          37.1,
          34,
          33.1,
          26.2,
          31.9,
          34,
          33.4,
          29.6,
          31.6,
          32.7,
          33.7,
          30.1,
          30,
          28.9,
          31.5,
          26.3,
          28,
          30.9,
          33,
          31.4,
          33.2,
          32.6,
          32.6,
          32.7,
          28.4,
          30.9,
          35.2,
          37.3,
          34.7,
          32,
          33.2,
          32.5,
          31.4,
          32.8,
          33.9,
          35.3,
          37.3,
          38.5,
          34.6,
          34.9,
          36,
          34.1,
          35.3,
          32.9,
          32,
          34,
          33.9,
          32.8,
          31.6,
          34.7,
          38,
          38.6,
          36.2,
          34.2,
          35.4,
          35.3,
          37.9,
          37.8,
          38.6,
          39.7,
          37.9,
          36.6,
          37.1,
          35.3,
          36.7,
          36.1,
          36.7,
          37.8,
          34.6,
          35.1,
          34.1,
          33.9,
          34.9,
          33.9,
          34.7,
          35,
          36.7,
          34.4,
          33.9,
          33.5,
          32.8,
          34.7,
          36.6,
          39.3,
          38,
          37.8,
          31.9,
          30.2,
          30.8,
          29.5,
          30,
          28.9,
          31.7,
          33.3,
          34.9,
          30.8,
          30.7,
          33.9,
          31.9,
          33,
          35.2,
          33.2,
          32.8,
          34.1,
          35.4,
          35.2,
          34.9,
          35.6,
          33.6,
          30.2,
          31.2,
          32.1,
          30.3,
          28.8,
          28.9,
          32.4,
          30.1,
          29.3,
          25.1,
          25.4,
          26.9,
          26.3,
          25.5,
          26.4,
          29.5,
          30,
          32.7,
          34.4,
          30.9,
          29.4,
          27.4,
          26.2,
          28,
          28.2,
          26.3,
          27,
          26.8,
          26.2,
          26.3,
          25.1,
          24.6,
          25.7,
          27.4,
          28.2,
          27.5,
          25.2,
          24.9,
          25.1,
          25.2,
          24.5,
          27.7,
          25.2,
          28.2,
          28.7,
          25.6,
          24.5,
          25.7,
          26.9,
          27,
          27,
          25.8,
          25,
          24.7,
          23,
          17.7,
          20.7,
          23.2,
          21.4,
          23.1,
          15.9,
          24.4,
          22.6,
          21.1,
          20.4,
          21.9,
          23.6,
          24.2,
          23.6,
          23,
          21.1,
          20.4,
          19.8,
          16.8,
          17,
          19.2,
          16.7,
          18.7,
          19.2,
          18.1,
          18.9,
          19.2,
          17.7,
          16.8,
          16.4,
          17.6,
          18.8,
          21.2,
          20.1,
          20,
          20.5,
          19.4,
          19.6,
          20.4,
          21.8,
          21.5,
          22.1,
          19,
          16.1,
          16.6,
          18,
          17.8,
          17.7,
          17.3,
          16.9,
          19.5,
          19.2,
          19.1,
          19.2,
          18.4
         ],
         "yaxis": "y"
        }
       ],
       "layout": {
        "legend": {
         "title": {
          "text": "Legend"
         },
         "tracegroupgap": 0
        },
        "template": {
         "data": {
          "bar": [
           {
            "error_x": {
             "color": "#2a3f5f"
            },
            "error_y": {
             "color": "#2a3f5f"
            },
            "marker": {
             "line": {
              "color": "#E5ECF6",
              "width": 0.5
             },
             "pattern": {
              "fillmode": "overlay",
              "size": 10,
              "solidity": 0.2
             }
            },
            "type": "bar"
           }
          ],
          "barpolar": [
           {
            "marker": {
             "line": {
              "color": "#E5ECF6",
              "width": 0.5
             },
             "pattern": {
              "fillmode": "overlay",
              "size": 10,
              "solidity": 0.2
             }
            },
            "type": "barpolar"
           }
          ],
          "carpet": [
           {
            "aaxis": {
             "endlinecolor": "#2a3f5f",
             "gridcolor": "white",
             "linecolor": "white",
             "minorgridcolor": "white",
             "startlinecolor": "#2a3f5f"
            },
            "baxis": {
             "endlinecolor": "#2a3f5f",
             "gridcolor": "white",
             "linecolor": "white",
             "minorgridcolor": "white",
             "startlinecolor": "#2a3f5f"
            },
            "type": "carpet"
           }
          ],
          "choropleth": [
           {
            "colorbar": {
             "outlinewidth": 0,
             "ticks": ""
            },
            "type": "choropleth"
           }
          ],
          "contour": [
           {
            "colorbar": {
             "outlinewidth": 0,
             "ticks": ""
            },
            "colorscale": [
             [
              0,
              "#0d0887"
             ],
             [
              0.1111111111111111,
              "#46039f"
             ],
             [
              0.2222222222222222,
              "#7201a8"
             ],
             [
              0.3333333333333333,
              "#9c179e"
             ],
             [
              0.4444444444444444,
              "#bd3786"
             ],
             [
              0.5555555555555556,
              "#d8576b"
             ],
             [
              0.6666666666666666,
              "#ed7953"
             ],
             [
              0.7777777777777778,
              "#fb9f3a"
             ],
             [
              0.8888888888888888,
              "#fdca26"
             ],
             [
              1,
              "#f0f921"
             ]
            ],
            "type": "contour"
           }
          ],
          "contourcarpet": [
           {
            "colorbar": {
             "outlinewidth": 0,
             "ticks": ""
            },
            "type": "contourcarpet"
           }
          ],
          "heatmap": [
           {
            "colorbar": {
             "outlinewidth": 0,
             "ticks": ""
            },
            "colorscale": [
             [
              0,
              "#0d0887"
             ],
             [
              0.1111111111111111,
              "#46039f"
             ],
             [
              0.2222222222222222,
              "#7201a8"
             ],
             [
              0.3333333333333333,
              "#9c179e"
             ],
             [
              0.4444444444444444,
              "#bd3786"
             ],
             [
              0.5555555555555556,
              "#d8576b"
             ],
             [
              0.6666666666666666,
              "#ed7953"
             ],
             [
              0.7777777777777778,
              "#fb9f3a"
             ],
             [
              0.8888888888888888,
              "#fdca26"
             ],
             [
              1,
              "#f0f921"
             ]
            ],
            "type": "heatmap"
           }
          ],
          "heatmapgl": [
           {
            "colorbar": {
             "outlinewidth": 0,
             "ticks": ""
            },
            "colorscale": [
             [
              0,
              "#0d0887"
             ],
             [
              0.1111111111111111,
              "#46039f"
             ],
             [
              0.2222222222222222,
              "#7201a8"
             ],
             [
              0.3333333333333333,
              "#9c179e"
             ],
             [
              0.4444444444444444,
              "#bd3786"
             ],
             [
              0.5555555555555556,
              "#d8576b"
             ],
             [
              0.6666666666666666,
              "#ed7953"
             ],
             [
              0.7777777777777778,
              "#fb9f3a"
             ],
             [
              0.8888888888888888,
              "#fdca26"
             ],
             [
              1,
              "#f0f921"
             ]
            ],
            "type": "heatmapgl"
           }
          ],
          "histogram": [
           {
            "marker": {
             "pattern": {
              "fillmode": "overlay",
              "size": 10,
              "solidity": 0.2
             }
            },
            "type": "histogram"
           }
          ],
          "histogram2d": [
           {
            "colorbar": {
             "outlinewidth": 0,
             "ticks": ""
            },
            "colorscale": [
             [
              0,
              "#0d0887"
             ],
             [
              0.1111111111111111,
              "#46039f"
             ],
             [
              0.2222222222222222,
              "#7201a8"
             ],
             [
              0.3333333333333333,
              "#9c179e"
             ],
             [
              0.4444444444444444,
              "#bd3786"
             ],
             [
              0.5555555555555556,
              "#d8576b"
             ],
             [
              0.6666666666666666,
              "#ed7953"
             ],
             [
              0.7777777777777778,
              "#fb9f3a"
             ],
             [
              0.8888888888888888,
              "#fdca26"
             ],
             [
              1,
              "#f0f921"
             ]
            ],
            "type": "histogram2d"
           }
          ],
          "histogram2dcontour": [
           {
            "colorbar": {
             "outlinewidth": 0,
             "ticks": ""
            },
            "colorscale": [
             [
              0,
              "#0d0887"
             ],
             [
              0.1111111111111111,
              "#46039f"
             ],
             [
              0.2222222222222222,
              "#7201a8"
             ],
             [
              0.3333333333333333,
              "#9c179e"
             ],
             [
              0.4444444444444444,
              "#bd3786"
             ],
             [
              0.5555555555555556,
              "#d8576b"
             ],
             [
              0.6666666666666666,
              "#ed7953"
             ],
             [
              0.7777777777777778,
              "#fb9f3a"
             ],
             [
              0.8888888888888888,
              "#fdca26"
             ],
             [
              1,
              "#f0f921"
             ]
            ],
            "type": "histogram2dcontour"
           }
          ],
          "mesh3d": [
           {
            "colorbar": {
             "outlinewidth": 0,
             "ticks": ""
            },
            "type": "mesh3d"
           }
          ],
          "parcoords": [
           {
            "line": {
             "colorbar": {
              "outlinewidth": 0,
              "ticks": ""
             }
            },
            "type": "parcoords"
           }
          ],
          "pie": [
           {
            "automargin": true,
            "type": "pie"
           }
          ],
          "scatter": [
           {
            "fillpattern": {
             "fillmode": "overlay",
             "size": 10,
             "solidity": 0.2
            },
            "type": "scatter"
           }
          ],
          "scatter3d": [
           {
            "line": {
             "colorbar": {
              "outlinewidth": 0,
              "ticks": ""
             }
            },
            "marker": {
             "colorbar": {
              "outlinewidth": 0,
              "ticks": ""
             }
            },
            "type": "scatter3d"
           }
          ],
          "scattercarpet": [
           {
            "marker": {
             "colorbar": {
              "outlinewidth": 0,
              "ticks": ""
             }
            },
            "type": "scattercarpet"
           }
          ],
          "scattergeo": [
           {
            "marker": {
             "colorbar": {
              "outlinewidth": 0,
              "ticks": ""
             }
            },
            "type": "scattergeo"
           }
          ],
          "scattergl": [
           {
            "marker": {
             "colorbar": {
              "outlinewidth": 0,
              "ticks": ""
             }
            },
            "type": "scattergl"
           }
          ],
          "scattermapbox": [
           {
            "marker": {
             "colorbar": {
              "outlinewidth": 0,
              "ticks": ""
             }
            },
            "type": "scattermapbox"
           }
          ],
          "scatterpolar": [
           {
            "marker": {
             "colorbar": {
              "outlinewidth": 0,
              "ticks": ""
             }
            },
            "type": "scatterpolar"
           }
          ],
          "scatterpolargl": [
           {
            "marker": {
             "colorbar": {
              "outlinewidth": 0,
              "ticks": ""
             }
            },
            "type": "scatterpolargl"
           }
          ],
          "scatterternary": [
           {
            "marker": {
             "colorbar": {
              "outlinewidth": 0,
              "ticks": ""
             }
            },
            "type": "scatterternary"
           }
          ],
          "surface": [
           {
            "colorbar": {
             "outlinewidth": 0,
             "ticks": ""
            },
            "colorscale": [
             [
              0,
              "#0d0887"
             ],
             [
              0.1111111111111111,
              "#46039f"
             ],
             [
              0.2222222222222222,
              "#7201a8"
             ],
             [
              0.3333333333333333,
              "#9c179e"
             ],
             [
              0.4444444444444444,
              "#bd3786"
             ],
             [
              0.5555555555555556,
              "#d8576b"
             ],
             [
              0.6666666666666666,
              "#ed7953"
             ],
             [
              0.7777777777777778,
              "#fb9f3a"
             ],
             [
              0.8888888888888888,
              "#fdca26"
             ],
             [
              1,
              "#f0f921"
             ]
            ],
            "type": "surface"
           }
          ],
          "table": [
           {
            "cells": {
             "fill": {
              "color": "#EBF0F8"
             },
             "line": {
              "color": "white"
             }
            },
            "header": {
             "fill": {
              "color": "#C8D4E3"
             },
             "line": {
              "color": "white"
             }
            },
            "type": "table"
           }
          ]
         },
         "layout": {
          "annotationdefaults": {
           "arrowcolor": "#2a3f5f",
           "arrowhead": 0,
           "arrowwidth": 1
          },
          "autotypenumbers": "strict",
          "coloraxis": {
           "colorbar": {
            "outlinewidth": 0,
            "ticks": ""
           }
          },
          "colorscale": {
           "diverging": [
            [
             0,
             "#8e0152"
            ],
            [
             0.1,
             "#c51b7d"
            ],
            [
             0.2,
             "#de77ae"
            ],
            [
             0.3,
             "#f1b6da"
            ],
            [
             0.4,
             "#fde0ef"
            ],
            [
             0.5,
             "#f7f7f7"
            ],
            [
             0.6,
             "#e6f5d0"
            ],
            [
             0.7,
             "#b8e186"
            ],
            [
             0.8,
             "#7fbc41"
            ],
            [
             0.9,
             "#4d9221"
            ],
            [
             1,
             "#276419"
            ]
           ],
           "sequential": [
            [
             0,
             "#0d0887"
            ],
            [
             0.1111111111111111,
             "#46039f"
            ],
            [
             0.2222222222222222,
             "#7201a8"
            ],
            [
             0.3333333333333333,
             "#9c179e"
            ],
            [
             0.4444444444444444,
             "#bd3786"
            ],
            [
             0.5555555555555556,
             "#d8576b"
            ],
            [
             0.6666666666666666,
             "#ed7953"
            ],
            [
             0.7777777777777778,
             "#fb9f3a"
            ],
            [
             0.8888888888888888,
             "#fdca26"
            ],
            [
             1,
             "#f0f921"
            ]
           ],
           "sequentialminus": [
            [
             0,
             "#0d0887"
            ],
            [
             0.1111111111111111,
             "#46039f"
            ],
            [
             0.2222222222222222,
             "#7201a8"
            ],
            [
             0.3333333333333333,
             "#9c179e"
            ],
            [
             0.4444444444444444,
             "#bd3786"
            ],
            [
             0.5555555555555556,
             "#d8576b"
            ],
            [
             0.6666666666666666,
             "#ed7953"
            ],
            [
             0.7777777777777778,
             "#fb9f3a"
            ],
            [
             0.8888888888888888,
             "#fdca26"
            ],
            [
             1,
             "#f0f921"
            ]
           ]
          },
          "colorway": [
           "#636efa",
           "#EF553B",
           "#00cc96",
           "#ab63fa",
           "#FFA15A",
           "#19d3f3",
           "#FF6692",
           "#B6E880",
           "#FF97FF",
           "#FECB52"
          ],
          "font": {
           "color": "#2a3f5f"
          },
          "geo": {
           "bgcolor": "white",
           "lakecolor": "white",
           "landcolor": "#E5ECF6",
           "showlakes": true,
           "showland": true,
           "subunitcolor": "white"
          },
          "hoverlabel": {
           "align": "left"
          },
          "hovermode": "closest",
          "mapbox": {
           "style": "light"
          },
          "paper_bgcolor": "white",
          "plot_bgcolor": "#E5ECF6",
          "polar": {
           "angularaxis": {
            "gridcolor": "white",
            "linecolor": "white",
            "ticks": ""
           },
           "bgcolor": "#E5ECF6",
           "radialaxis": {
            "gridcolor": "white",
            "linecolor": "white",
            "ticks": ""
           }
          },
          "scene": {
           "xaxis": {
            "backgroundcolor": "#E5ECF6",
            "gridcolor": "white",
            "gridwidth": 2,
            "linecolor": "white",
            "showbackground": true,
            "ticks": "",
            "zerolinecolor": "white"
           },
           "yaxis": {
            "backgroundcolor": "#E5ECF6",
            "gridcolor": "white",
            "gridwidth": 2,
            "linecolor": "white",
            "showbackground": true,
            "ticks": "",
            "zerolinecolor": "white"
           },
           "zaxis": {
            "backgroundcolor": "#E5ECF6",
            "gridcolor": "white",
            "gridwidth": 2,
            "linecolor": "white",
            "showbackground": true,
            "ticks": "",
            "zerolinecolor": "white"
           }
          },
          "shapedefaults": {
           "line": {
            "color": "#2a3f5f"
           }
          },
          "ternary": {
           "aaxis": {
            "gridcolor": "white",
            "linecolor": "white",
            "ticks": ""
           },
           "baxis": {
            "gridcolor": "white",
            "linecolor": "white",
            "ticks": ""
           },
           "bgcolor": "#E5ECF6",
           "caxis": {
            "gridcolor": "white",
            "linecolor": "white",
            "ticks": ""
           }
          },
          "title": {
           "x": 0.05
          },
          "xaxis": {
           "automargin": true,
           "gridcolor": "white",
           "linecolor": "white",
           "ticks": "",
           "title": {
            "standoff": 15
           },
           "zerolinecolor": "white",
           "zerolinewidth": 2
          },
          "yaxis": {
           "automargin": true,
           "gridcolor": "white",
           "linecolor": "white",
           "ticks": "",
           "title": {
            "standoff": 15
           },
           "zerolinecolor": "white",
           "zerolinewidth": 2
          }
         }
        },
        "title": {
         "text": "Temperature Min/Max for the Given Location",
         "x": 0.5,
         "xanchor": "center"
        },
        "xaxis": {
         "anchor": "y",
         "domain": [
          0,
          1
         ],
         "title": {
          "text": "Date"
         }
        },
        "yaxis": {
         "anchor": "x",
         "domain": [
          0,
          1
         ],
         "title": {
          "text": "Temperature (°C)"
         }
        }
       }
      }
     },
     "metadata": {},
     "output_type": "display_data"
    }
   ],
   "source": [
    "fig = px.line(data.reset_index(), x='time', y=['tmin','tmax'],\n",
    "                title=f'Temperature Min/Max for the Given Location',\n",
    "                labels={'time': 'Date', 'tmin': 'Min Temp', 'tmax': 'Max Temp'})\n",
    "\n",
    "fig.data[0].name = 'Tmin'\n",
    "fig.data[1].name = 'Tmax'\n",
    "\n",
    "\n",
    "# Update the legend title\n",
    "fig.update_layout(legend_title='Legend')\n",
    "\n",
    "fig.update_yaxes(title_text='Temperature (°C)')\n",
    "\n",
    "# Center the plot title\n",
    "fig.update_layout(title={'x': 0.5, 'xanchor': 'center'})\n",
    "\n",
    "fig.show()"
   ]
  },
  {
   "cell_type": "code",
   "execution_count": 10,
   "metadata": {},
   "outputs": [
    {
     "data": {
      "text/plain": [
       "'./images/Temperature-Trend.html'"
      ]
     },
     "execution_count": 10,
     "metadata": {},
     "output_type": "execute_result"
    }
   ],
   "source": [
    "# imports\n",
    "import plotly\n",
    "# Export as static image\n",
    "\n",
    "# # Assuming your plot is in the 'fig' variable\n",
    "#fig.write_image(\"yourfile.png\") \n",
    "\n",
    "\n",
    "# Export as HTML\n",
    "\n",
    "# # Assuming your plot is in the 'fig' variable\n",
    "plotly.offline.plot(fig, filename='./images/Temperature-Trend.html')"
   ]
  },
  {
   "cell_type": "code",
   "execution_count": 6,
   "metadata": {},
   "outputs": [
    {
     "data": {
      "application/vnd.plotly.v1+json": {
       "config": {
        "plotlyServerURL": "https://plot.ly"
       },
       "data": [
        {
         "hovertemplate": "variable=wspd<br>Date=%{x}<br>value=%{y}<extra></extra>",
         "legendgroup": "wspd",
         "line": {
          "color": "#636efa",
          "dash": "solid"
         },
         "marker": {
          "symbol": "circle"
         },
         "mode": "lines",
         "name": "Wind",
         "orientation": "v",
         "showlegend": true,
         "type": "scatter",
         "x": [
          "2022-01-01T00:00:00",
          "2022-01-02T00:00:00",
          "2022-01-03T00:00:00",
          "2022-01-04T00:00:00",
          "2022-01-05T00:00:00",
          "2022-01-06T00:00:00",
          "2022-01-07T00:00:00",
          "2022-01-08T00:00:00",
          "2022-01-09T00:00:00",
          "2022-01-10T00:00:00",
          "2022-01-11T00:00:00",
          "2022-01-12T00:00:00",
          "2022-01-13T00:00:00",
          "2022-01-14T00:00:00",
          "2022-01-15T00:00:00",
          "2022-01-16T00:00:00",
          "2022-01-17T00:00:00",
          "2022-01-18T00:00:00",
          "2022-01-19T00:00:00",
          "2022-01-20T00:00:00",
          "2022-01-21T00:00:00",
          "2022-01-22T00:00:00",
          "2022-01-23T00:00:00",
          "2022-01-24T00:00:00",
          "2022-01-25T00:00:00",
          "2022-01-26T00:00:00",
          "2022-01-27T00:00:00",
          "2022-01-28T00:00:00",
          "2022-01-29T00:00:00",
          "2022-01-30T00:00:00",
          "2022-01-31T00:00:00",
          "2022-02-01T00:00:00",
          "2022-02-02T00:00:00",
          "2022-02-03T00:00:00",
          "2022-02-04T00:00:00",
          "2022-02-05T00:00:00",
          "2022-02-06T00:00:00",
          "2022-02-07T00:00:00",
          "2022-02-08T00:00:00",
          "2022-02-09T00:00:00",
          "2022-02-10T00:00:00",
          "2022-02-11T00:00:00",
          "2022-02-12T00:00:00",
          "2022-02-13T00:00:00",
          "2022-02-14T00:00:00",
          "2022-02-15T00:00:00",
          "2022-02-16T00:00:00",
          "2022-02-17T00:00:00",
          "2022-02-18T00:00:00",
          "2022-02-19T00:00:00",
          "2022-02-20T00:00:00",
          "2022-02-21T00:00:00",
          "2022-02-22T00:00:00",
          "2022-02-23T00:00:00",
          "2022-02-24T00:00:00",
          "2022-02-25T00:00:00",
          "2022-02-26T00:00:00",
          "2022-02-27T00:00:00",
          "2022-02-28T00:00:00",
          "2022-03-01T00:00:00",
          "2022-03-02T00:00:00",
          "2022-03-03T00:00:00",
          "2022-03-04T00:00:00",
          "2022-03-05T00:00:00",
          "2022-03-06T00:00:00",
          "2022-03-07T00:00:00",
          "2022-03-08T00:00:00",
          "2022-03-09T00:00:00",
          "2022-03-10T00:00:00",
          "2022-03-11T00:00:00",
          "2022-03-12T00:00:00",
          "2022-03-13T00:00:00",
          "2022-03-14T00:00:00",
          "2022-03-15T00:00:00",
          "2022-03-16T00:00:00",
          "2022-03-17T00:00:00",
          "2022-03-18T00:00:00",
          "2022-03-19T00:00:00",
          "2022-03-20T00:00:00",
          "2022-03-21T00:00:00",
          "2022-03-22T00:00:00",
          "2022-03-23T00:00:00",
          "2022-03-24T00:00:00",
          "2022-03-25T00:00:00",
          "2022-03-26T00:00:00",
          "2022-03-27T00:00:00",
          "2022-03-28T00:00:00",
          "2022-03-29T00:00:00",
          "2022-03-30T00:00:00",
          "2022-03-31T00:00:00",
          "2022-04-01T00:00:00",
          "2022-04-02T00:00:00",
          "2022-04-03T00:00:00",
          "2022-04-04T00:00:00",
          "2022-04-05T00:00:00",
          "2022-04-06T00:00:00",
          "2022-04-07T00:00:00",
          "2022-04-08T00:00:00",
          "2022-04-09T00:00:00",
          "2022-04-10T00:00:00",
          "2022-04-11T00:00:00",
          "2022-04-12T00:00:00",
          "2022-04-13T00:00:00",
          "2022-04-14T00:00:00",
          "2022-04-15T00:00:00",
          "2022-04-16T00:00:00",
          "2022-04-17T00:00:00",
          "2022-04-18T00:00:00",
          "2022-04-19T00:00:00",
          "2022-04-20T00:00:00",
          "2022-04-21T00:00:00",
          "2022-04-22T00:00:00",
          "2022-04-23T00:00:00",
          "2022-04-24T00:00:00",
          "2022-04-25T00:00:00",
          "2022-04-26T00:00:00",
          "2022-04-27T00:00:00",
          "2022-04-28T00:00:00",
          "2022-04-29T00:00:00",
          "2022-04-30T00:00:00",
          "2022-05-01T00:00:00",
          "2022-05-02T00:00:00",
          "2022-05-03T00:00:00",
          "2022-05-04T00:00:00",
          "2022-05-05T00:00:00",
          "2022-05-06T00:00:00",
          "2022-05-07T00:00:00",
          "2022-05-08T00:00:00",
          "2022-05-09T00:00:00",
          "2022-05-10T00:00:00",
          "2022-05-11T00:00:00",
          "2022-05-12T00:00:00",
          "2022-05-13T00:00:00",
          "2022-05-14T00:00:00",
          "2022-05-15T00:00:00",
          "2022-05-16T00:00:00",
          "2022-05-17T00:00:00",
          "2022-05-18T00:00:00",
          "2022-05-19T00:00:00",
          "2022-05-20T00:00:00",
          "2022-05-21T00:00:00",
          "2022-05-22T00:00:00",
          "2022-05-23T00:00:00",
          "2022-05-24T00:00:00",
          "2022-05-25T00:00:00",
          "2022-05-26T00:00:00",
          "2022-05-27T00:00:00",
          "2022-05-28T00:00:00",
          "2022-05-29T00:00:00",
          "2022-05-30T00:00:00",
          "2022-05-31T00:00:00",
          "2022-06-01T00:00:00",
          "2022-06-02T00:00:00",
          "2022-06-03T00:00:00",
          "2022-06-04T00:00:00",
          "2022-06-05T00:00:00",
          "2022-06-06T00:00:00",
          "2022-06-07T00:00:00",
          "2022-06-08T00:00:00",
          "2022-06-09T00:00:00",
          "2022-06-10T00:00:00",
          "2022-06-11T00:00:00",
          "2022-06-12T00:00:00",
          "2022-06-13T00:00:00",
          "2022-06-14T00:00:00",
          "2022-06-15T00:00:00",
          "2022-06-16T00:00:00",
          "2022-06-17T00:00:00",
          "2022-06-18T00:00:00",
          "2022-06-19T00:00:00",
          "2022-06-20T00:00:00",
          "2022-06-21T00:00:00",
          "2022-06-22T00:00:00",
          "2022-06-23T00:00:00",
          "2022-06-24T00:00:00",
          "2022-06-25T00:00:00",
          "2022-06-26T00:00:00",
          "2022-06-27T00:00:00",
          "2022-06-28T00:00:00",
          "2022-06-29T00:00:00",
          "2022-06-30T00:00:00",
          "2022-07-01T00:00:00",
          "2022-07-02T00:00:00",
          "2022-07-03T00:00:00",
          "2022-07-04T00:00:00",
          "2022-07-05T00:00:00",
          "2022-07-06T00:00:00",
          "2022-07-07T00:00:00",
          "2022-07-08T00:00:00",
          "2022-07-09T00:00:00",
          "2022-07-10T00:00:00",
          "2022-07-11T00:00:00",
          "2022-07-12T00:00:00",
          "2022-07-13T00:00:00",
          "2022-07-14T00:00:00",
          "2022-07-15T00:00:00",
          "2022-07-16T00:00:00",
          "2022-07-17T00:00:00",
          "2022-07-18T00:00:00",
          "2022-07-19T00:00:00",
          "2022-07-20T00:00:00",
          "2022-07-21T00:00:00",
          "2022-07-22T00:00:00",
          "2022-07-23T00:00:00",
          "2022-07-24T00:00:00",
          "2022-07-25T00:00:00",
          "2022-07-26T00:00:00",
          "2022-07-27T00:00:00",
          "2022-07-28T00:00:00",
          "2022-07-29T00:00:00",
          "2022-07-30T00:00:00",
          "2022-07-31T00:00:00",
          "2022-08-01T00:00:00",
          "2022-08-02T00:00:00",
          "2022-08-03T00:00:00",
          "2022-08-04T00:00:00",
          "2022-08-05T00:00:00",
          "2022-08-06T00:00:00",
          "2022-08-07T00:00:00",
          "2022-08-08T00:00:00",
          "2022-08-09T00:00:00",
          "2022-08-10T00:00:00",
          "2022-08-11T00:00:00",
          "2022-08-12T00:00:00",
          "2022-08-13T00:00:00",
          "2022-08-14T00:00:00",
          "2022-08-15T00:00:00",
          "2022-08-16T00:00:00",
          "2022-08-17T00:00:00",
          "2022-08-18T00:00:00",
          "2022-08-19T00:00:00",
          "2022-08-20T00:00:00",
          "2022-08-21T00:00:00",
          "2022-08-22T00:00:00",
          "2022-08-23T00:00:00",
          "2022-08-24T00:00:00",
          "2022-08-25T00:00:00",
          "2022-08-26T00:00:00",
          "2022-08-27T00:00:00",
          "2022-08-28T00:00:00",
          "2022-08-29T00:00:00",
          "2022-08-30T00:00:00",
          "2022-08-31T00:00:00",
          "2022-09-01T00:00:00",
          "2022-09-02T00:00:00",
          "2022-09-03T00:00:00",
          "2022-09-04T00:00:00",
          "2022-09-05T00:00:00",
          "2022-09-06T00:00:00",
          "2022-09-07T00:00:00",
          "2022-09-08T00:00:00",
          "2022-09-09T00:00:00",
          "2022-09-10T00:00:00",
          "2022-09-11T00:00:00",
          "2022-09-12T00:00:00",
          "2022-09-13T00:00:00",
          "2022-09-14T00:00:00",
          "2022-09-15T00:00:00",
          "2022-09-16T00:00:00",
          "2022-09-17T00:00:00",
          "2022-09-18T00:00:00",
          "2022-09-19T00:00:00",
          "2022-09-20T00:00:00",
          "2022-09-21T00:00:00",
          "2022-09-22T00:00:00",
          "2022-09-23T00:00:00",
          "2022-09-24T00:00:00",
          "2022-09-25T00:00:00",
          "2022-09-26T00:00:00",
          "2022-09-27T00:00:00",
          "2022-09-28T00:00:00",
          "2022-09-29T00:00:00",
          "2022-09-30T00:00:00",
          "2022-10-01T00:00:00",
          "2022-10-02T00:00:00",
          "2022-10-03T00:00:00",
          "2022-10-04T00:00:00",
          "2022-10-05T00:00:00",
          "2022-10-06T00:00:00",
          "2022-10-07T00:00:00",
          "2022-10-08T00:00:00",
          "2022-10-09T00:00:00",
          "2022-10-10T00:00:00",
          "2022-10-11T00:00:00",
          "2022-10-12T00:00:00",
          "2022-10-13T00:00:00",
          "2022-10-14T00:00:00",
          "2022-10-15T00:00:00",
          "2022-10-16T00:00:00",
          "2022-10-17T00:00:00",
          "2022-10-18T00:00:00",
          "2022-10-19T00:00:00",
          "2022-10-20T00:00:00",
          "2022-10-21T00:00:00",
          "2022-10-22T00:00:00",
          "2022-10-23T00:00:00",
          "2022-10-24T00:00:00",
          "2022-10-25T00:00:00",
          "2022-10-26T00:00:00",
          "2022-10-27T00:00:00",
          "2022-10-28T00:00:00",
          "2022-10-29T00:00:00",
          "2022-10-30T00:00:00",
          "2022-10-31T00:00:00",
          "2022-11-01T00:00:00",
          "2022-11-02T00:00:00",
          "2022-11-03T00:00:00",
          "2022-11-04T00:00:00",
          "2022-11-05T00:00:00",
          "2022-11-06T00:00:00",
          "2022-11-07T00:00:00",
          "2022-11-08T00:00:00",
          "2022-11-09T00:00:00",
          "2022-11-10T00:00:00",
          "2022-11-11T00:00:00",
          "2022-11-12T00:00:00",
          "2022-11-13T00:00:00",
          "2022-11-14T00:00:00",
          "2022-11-15T00:00:00",
          "2022-11-16T00:00:00",
          "2022-11-17T00:00:00",
          "2022-11-18T00:00:00",
          "2022-11-19T00:00:00",
          "2022-11-20T00:00:00",
          "2022-11-21T00:00:00",
          "2022-11-22T00:00:00",
          "2022-11-23T00:00:00",
          "2022-11-24T00:00:00",
          "2022-11-25T00:00:00",
          "2022-11-26T00:00:00",
          "2022-11-27T00:00:00",
          "2022-11-28T00:00:00",
          "2022-11-29T00:00:00",
          "2022-11-30T00:00:00",
          "2022-12-01T00:00:00",
          "2022-12-02T00:00:00",
          "2022-12-03T00:00:00",
          "2022-12-04T00:00:00",
          "2022-12-05T00:00:00",
          "2022-12-06T00:00:00",
          "2022-12-07T00:00:00",
          "2022-12-08T00:00:00",
          "2022-12-09T00:00:00",
          "2022-12-10T00:00:00",
          "2022-12-11T00:00:00",
          "2022-12-12T00:00:00",
          "2022-12-13T00:00:00",
          "2022-12-14T00:00:00",
          "2022-12-15T00:00:00",
          "2022-12-16T00:00:00",
          "2022-12-17T00:00:00",
          "2022-12-18T00:00:00",
          "2022-12-19T00:00:00",
          "2022-12-20T00:00:00",
          "2022-12-21T00:00:00",
          "2022-12-22T00:00:00",
          "2022-12-23T00:00:00",
          "2022-12-24T00:00:00",
          "2022-12-25T00:00:00",
          "2022-12-26T00:00:00",
          "2022-12-27T00:00:00",
          "2022-12-28T00:00:00",
          "2022-12-29T00:00:00",
          "2022-12-30T00:00:00",
          "2022-12-31T00:00:00"
         ],
         "xaxis": "x",
         "y": [
          2.8,
          7.4,
          4.5,
          5.2,
          7.7,
          11.9,
          6.8,
          6.9,
          11.8,
          10,
          17.7,
          7.5,
          13,
          10.3,
          8.9,
          12,
          5.4,
          9,
          11.5,
          4.6,
          10.9,
          9.3,
          13.5,
          6.2,
          9.5,
          16.2,
          12.3,
          4.2,
          6.4,
          8.2,
          8.1,
          13.7,
          25.6,
          11.7,
          12.1,
          5.8,
          5.1,
          9.3,
          16.5,
          18.8,
          13.9,
          4.5,
          3.9,
          2.3,
          7.8,
          7.9,
          3.7,
          6.5,
          6,
          8.7,
          3.5,
          7.4,
          9.8,
          6.9,
          8.3,
          13.2,
          5.9,
          9.3,
          6.7,
          5.6,
          11,
          14,
          5.3,
          8,
          8,
          7.9,
          4.9,
          3.2,
          6.1,
          19,
          8.9,
          5.3,
          4.7,
          10.1,
          2.9,
          6.1,
          18.5,
          19.6,
          14.6,
          3.5,
          2.3,
          7.9,
          11.9,
          6.6,
          6,
          5.8,
          5,
          6.8,
          6.2,
          10,
          18.4,
          9.5,
          5.6,
          2.8,
          10.3,
          5,
          7,
          5.9,
          5.8,
          9.1,
          12.9,
          12.8,
          7.7,
          4.8,
          2.8,
          3.8,
          10.9,
          7.7,
          3.8,
          5.6,
          3.7,
          3.1,
          2.2,
          3.6,
          3.8,
          3.5,
          3.6,
          3.4,
          2.5,
          5.5,
          5.3,
          3.1,
          3.7,
          11.6,
          13.5,
          9.4,
          4.8,
          3.2,
          3.9,
          4,
          4.3,
          3.2,
          3.9,
          4.2,
          5.5,
          4.7,
          6.1,
          2.7,
          9.2,
          7.4,
          3.4,
          6.6,
          4.8,
          4.2,
          3.8,
          4.7,
          4,
          4,
          8.8,
          7.9,
          10.8,
          11.4,
          6.8,
          4.4,
          5.5,
          4.9,
          10.1,
          15.7,
          9.3,
          4.9,
          11.3,
          11.2,
          10.7,
          12.3,
          5.9,
          4.6,
          4.4,
          6,
          4.7,
          5.1,
          6.1,
          11.1,
          9.2,
          5.6,
          9,
          11.8,
          9.3,
          12.4,
          13.5,
          11,
          4.8,
          8,
          9.6,
          8.1,
          5.5,
          4.4,
          4.1,
          11.8,
          7.8,
          5.5,
          9.1,
          10.1,
          9,
          10.8,
          4.6,
          5,
          4.9,
          10,
          12.4,
          11.3,
          9.5,
          10.1,
          10.5,
          8.1,
          10.2,
          11,
          6.5,
          3.4,
          2.9,
          4.2,
          4.6,
          5.7,
          12.3,
          4.7,
          4.1,
          4.3,
          4.8,
          4.6,
          4.1,
          3.9,
          4.3,
          5.1,
          6.3,
          4,
          5.7,
          5,
          4.6,
          5.1,
          6.8,
          6.5,
          10.3,
          5.9,
          3.4,
          4.5,
          3.9,
          3.4,
          3.5,
          4.6,
          3.7,
          3.5,
          3.7,
          4.3,
          5,
          3.9,
          4.2,
          4.6,
          7.9,
          8.8,
          8.8,
          4.5,
          4.2,
          4,
          3.8,
          3.8,
          5.1,
          11.8,
          7.3,
          3.7,
          3.7,
          3.7,
          3.6,
          4.9,
          7.5,
          9.6,
          10.5,
          7.7,
          7.6,
          2.6,
          3.2,
          5.3,
          9.5,
          3.9,
          5.3,
          3.6,
          8.6,
          12.8,
          10.2,
          11.9,
          6.3,
          7.7,
          7.7,
          5.2,
          3,
          3.2,
          4.5,
          5,
          3.1,
          4.2,
          6.8,
          8.6,
          5.7,
          3.1,
          3.8,
          9.1,
          5.4,
          2.9,
          5,
          2.7,
          2.4,
          4.8,
          3.4,
          3.3,
          2.5,
          2.8,
          2.4,
          2.4,
          2.4,
          1.9,
          6.8,
          9.8,
          5.2,
          5,
          4.7,
          3,
          2.5,
          3.3,
          2.2,
          2.8,
          2,
          2.5,
          7,
          10.6,
          11.3,
          14.2,
          15.7,
          4.4,
          12.9,
          4.9,
          7.3,
          6.9,
          3.9,
          3.3,
          2.7,
          4.4,
          6.7,
          4.4,
          3,
          3.2,
          4.1,
          5.5,
          3.8,
          9.3,
          9,
          14.7,
          22.2,
          10.9,
          10.2,
          3.5,
          8.2,
          8.8,
          8,
          3.6,
          8.2,
          9.8,
          6,
          5.2,
          3.2,
          3.8,
          9.1,
          9.5,
          4.6,
          3.1,
          3,
          3.4,
          3.7
         ],
         "yaxis": "y"
        }
       ],
       "layout": {
        "legend": {
         "title": {
          "text": "Legend"
         },
         "tracegroupgap": 0
        },
        "template": {
         "data": {
          "bar": [
           {
            "error_x": {
             "color": "#2a3f5f"
            },
            "error_y": {
             "color": "#2a3f5f"
            },
            "marker": {
             "line": {
              "color": "#E5ECF6",
              "width": 0.5
             },
             "pattern": {
              "fillmode": "overlay",
              "size": 10,
              "solidity": 0.2
             }
            },
            "type": "bar"
           }
          ],
          "barpolar": [
           {
            "marker": {
             "line": {
              "color": "#E5ECF6",
              "width": 0.5
             },
             "pattern": {
              "fillmode": "overlay",
              "size": 10,
              "solidity": 0.2
             }
            },
            "type": "barpolar"
           }
          ],
          "carpet": [
           {
            "aaxis": {
             "endlinecolor": "#2a3f5f",
             "gridcolor": "white",
             "linecolor": "white",
             "minorgridcolor": "white",
             "startlinecolor": "#2a3f5f"
            },
            "baxis": {
             "endlinecolor": "#2a3f5f",
             "gridcolor": "white",
             "linecolor": "white",
             "minorgridcolor": "white",
             "startlinecolor": "#2a3f5f"
            },
            "type": "carpet"
           }
          ],
          "choropleth": [
           {
            "colorbar": {
             "outlinewidth": 0,
             "ticks": ""
            },
            "type": "choropleth"
           }
          ],
          "contour": [
           {
            "colorbar": {
             "outlinewidth": 0,
             "ticks": ""
            },
            "colorscale": [
             [
              0,
              "#0d0887"
             ],
             [
              0.1111111111111111,
              "#46039f"
             ],
             [
              0.2222222222222222,
              "#7201a8"
             ],
             [
              0.3333333333333333,
              "#9c179e"
             ],
             [
              0.4444444444444444,
              "#bd3786"
             ],
             [
              0.5555555555555556,
              "#d8576b"
             ],
             [
              0.6666666666666666,
              "#ed7953"
             ],
             [
              0.7777777777777778,
              "#fb9f3a"
             ],
             [
              0.8888888888888888,
              "#fdca26"
             ],
             [
              1,
              "#f0f921"
             ]
            ],
            "type": "contour"
           }
          ],
          "contourcarpet": [
           {
            "colorbar": {
             "outlinewidth": 0,
             "ticks": ""
            },
            "type": "contourcarpet"
           }
          ],
          "heatmap": [
           {
            "colorbar": {
             "outlinewidth": 0,
             "ticks": ""
            },
            "colorscale": [
             [
              0,
              "#0d0887"
             ],
             [
              0.1111111111111111,
              "#46039f"
             ],
             [
              0.2222222222222222,
              "#7201a8"
             ],
             [
              0.3333333333333333,
              "#9c179e"
             ],
             [
              0.4444444444444444,
              "#bd3786"
             ],
             [
              0.5555555555555556,
              "#d8576b"
             ],
             [
              0.6666666666666666,
              "#ed7953"
             ],
             [
              0.7777777777777778,
              "#fb9f3a"
             ],
             [
              0.8888888888888888,
              "#fdca26"
             ],
             [
              1,
              "#f0f921"
             ]
            ],
            "type": "heatmap"
           }
          ],
          "heatmapgl": [
           {
            "colorbar": {
             "outlinewidth": 0,
             "ticks": ""
            },
            "colorscale": [
             [
              0,
              "#0d0887"
             ],
             [
              0.1111111111111111,
              "#46039f"
             ],
             [
              0.2222222222222222,
              "#7201a8"
             ],
             [
              0.3333333333333333,
              "#9c179e"
             ],
             [
              0.4444444444444444,
              "#bd3786"
             ],
             [
              0.5555555555555556,
              "#d8576b"
             ],
             [
              0.6666666666666666,
              "#ed7953"
             ],
             [
              0.7777777777777778,
              "#fb9f3a"
             ],
             [
              0.8888888888888888,
              "#fdca26"
             ],
             [
              1,
              "#f0f921"
             ]
            ],
            "type": "heatmapgl"
           }
          ],
          "histogram": [
           {
            "marker": {
             "pattern": {
              "fillmode": "overlay",
              "size": 10,
              "solidity": 0.2
             }
            },
            "type": "histogram"
           }
          ],
          "histogram2d": [
           {
            "colorbar": {
             "outlinewidth": 0,
             "ticks": ""
            },
            "colorscale": [
             [
              0,
              "#0d0887"
             ],
             [
              0.1111111111111111,
              "#46039f"
             ],
             [
              0.2222222222222222,
              "#7201a8"
             ],
             [
              0.3333333333333333,
              "#9c179e"
             ],
             [
              0.4444444444444444,
              "#bd3786"
             ],
             [
              0.5555555555555556,
              "#d8576b"
             ],
             [
              0.6666666666666666,
              "#ed7953"
             ],
             [
              0.7777777777777778,
              "#fb9f3a"
             ],
             [
              0.8888888888888888,
              "#fdca26"
             ],
             [
              1,
              "#f0f921"
             ]
            ],
            "type": "histogram2d"
           }
          ],
          "histogram2dcontour": [
           {
            "colorbar": {
             "outlinewidth": 0,
             "ticks": ""
            },
            "colorscale": [
             [
              0,
              "#0d0887"
             ],
             [
              0.1111111111111111,
              "#46039f"
             ],
             [
              0.2222222222222222,
              "#7201a8"
             ],
             [
              0.3333333333333333,
              "#9c179e"
             ],
             [
              0.4444444444444444,
              "#bd3786"
             ],
             [
              0.5555555555555556,
              "#d8576b"
             ],
             [
              0.6666666666666666,
              "#ed7953"
             ],
             [
              0.7777777777777778,
              "#fb9f3a"
             ],
             [
              0.8888888888888888,
              "#fdca26"
             ],
             [
              1,
              "#f0f921"
             ]
            ],
            "type": "histogram2dcontour"
           }
          ],
          "mesh3d": [
           {
            "colorbar": {
             "outlinewidth": 0,
             "ticks": ""
            },
            "type": "mesh3d"
           }
          ],
          "parcoords": [
           {
            "line": {
             "colorbar": {
              "outlinewidth": 0,
              "ticks": ""
             }
            },
            "type": "parcoords"
           }
          ],
          "pie": [
           {
            "automargin": true,
            "type": "pie"
           }
          ],
          "scatter": [
           {
            "fillpattern": {
             "fillmode": "overlay",
             "size": 10,
             "solidity": 0.2
            },
            "type": "scatter"
           }
          ],
          "scatter3d": [
           {
            "line": {
             "colorbar": {
              "outlinewidth": 0,
              "ticks": ""
             }
            },
            "marker": {
             "colorbar": {
              "outlinewidth": 0,
              "ticks": ""
             }
            },
            "type": "scatter3d"
           }
          ],
          "scattercarpet": [
           {
            "marker": {
             "colorbar": {
              "outlinewidth": 0,
              "ticks": ""
             }
            },
            "type": "scattercarpet"
           }
          ],
          "scattergeo": [
           {
            "marker": {
             "colorbar": {
              "outlinewidth": 0,
              "ticks": ""
             }
            },
            "type": "scattergeo"
           }
          ],
          "scattergl": [
           {
            "marker": {
             "colorbar": {
              "outlinewidth": 0,
              "ticks": ""
             }
            },
            "type": "scattergl"
           }
          ],
          "scattermapbox": [
           {
            "marker": {
             "colorbar": {
              "outlinewidth": 0,
              "ticks": ""
             }
            },
            "type": "scattermapbox"
           }
          ],
          "scatterpolar": [
           {
            "marker": {
             "colorbar": {
              "outlinewidth": 0,
              "ticks": ""
             }
            },
            "type": "scatterpolar"
           }
          ],
          "scatterpolargl": [
           {
            "marker": {
             "colorbar": {
              "outlinewidth": 0,
              "ticks": ""
             }
            },
            "type": "scatterpolargl"
           }
          ],
          "scatterternary": [
           {
            "marker": {
             "colorbar": {
              "outlinewidth": 0,
              "ticks": ""
             }
            },
            "type": "scatterternary"
           }
          ],
          "surface": [
           {
            "colorbar": {
             "outlinewidth": 0,
             "ticks": ""
            },
            "colorscale": [
             [
              0,
              "#0d0887"
             ],
             [
              0.1111111111111111,
              "#46039f"
             ],
             [
              0.2222222222222222,
              "#7201a8"
             ],
             [
              0.3333333333333333,
              "#9c179e"
             ],
             [
              0.4444444444444444,
              "#bd3786"
             ],
             [
              0.5555555555555556,
              "#d8576b"
             ],
             [
              0.6666666666666666,
              "#ed7953"
             ],
             [
              0.7777777777777778,
              "#fb9f3a"
             ],
             [
              0.8888888888888888,
              "#fdca26"
             ],
             [
              1,
              "#f0f921"
             ]
            ],
            "type": "surface"
           }
          ],
          "table": [
           {
            "cells": {
             "fill": {
              "color": "#EBF0F8"
             },
             "line": {
              "color": "white"
             }
            },
            "header": {
             "fill": {
              "color": "#C8D4E3"
             },
             "line": {
              "color": "white"
             }
            },
            "type": "table"
           }
          ]
         },
         "layout": {
          "annotationdefaults": {
           "arrowcolor": "#2a3f5f",
           "arrowhead": 0,
           "arrowwidth": 1
          },
          "autotypenumbers": "strict",
          "coloraxis": {
           "colorbar": {
            "outlinewidth": 0,
            "ticks": ""
           }
          },
          "colorscale": {
           "diverging": [
            [
             0,
             "#8e0152"
            ],
            [
             0.1,
             "#c51b7d"
            ],
            [
             0.2,
             "#de77ae"
            ],
            [
             0.3,
             "#f1b6da"
            ],
            [
             0.4,
             "#fde0ef"
            ],
            [
             0.5,
             "#f7f7f7"
            ],
            [
             0.6,
             "#e6f5d0"
            ],
            [
             0.7,
             "#b8e186"
            ],
            [
             0.8,
             "#7fbc41"
            ],
            [
             0.9,
             "#4d9221"
            ],
            [
             1,
             "#276419"
            ]
           ],
           "sequential": [
            [
             0,
             "#0d0887"
            ],
            [
             0.1111111111111111,
             "#46039f"
            ],
            [
             0.2222222222222222,
             "#7201a8"
            ],
            [
             0.3333333333333333,
             "#9c179e"
            ],
            [
             0.4444444444444444,
             "#bd3786"
            ],
            [
             0.5555555555555556,
             "#d8576b"
            ],
            [
             0.6666666666666666,
             "#ed7953"
            ],
            [
             0.7777777777777778,
             "#fb9f3a"
            ],
            [
             0.8888888888888888,
             "#fdca26"
            ],
            [
             1,
             "#f0f921"
            ]
           ],
           "sequentialminus": [
            [
             0,
             "#0d0887"
            ],
            [
             0.1111111111111111,
             "#46039f"
            ],
            [
             0.2222222222222222,
             "#7201a8"
            ],
            [
             0.3333333333333333,
             "#9c179e"
            ],
            [
             0.4444444444444444,
             "#bd3786"
            ],
            [
             0.5555555555555556,
             "#d8576b"
            ],
            [
             0.6666666666666666,
             "#ed7953"
            ],
            [
             0.7777777777777778,
             "#fb9f3a"
            ],
            [
             0.8888888888888888,
             "#fdca26"
            ],
            [
             1,
             "#f0f921"
            ]
           ]
          },
          "colorway": [
           "#636efa",
           "#EF553B",
           "#00cc96",
           "#ab63fa",
           "#FFA15A",
           "#19d3f3",
           "#FF6692",
           "#B6E880",
           "#FF97FF",
           "#FECB52"
          ],
          "font": {
           "color": "#2a3f5f"
          },
          "geo": {
           "bgcolor": "white",
           "lakecolor": "white",
           "landcolor": "#E5ECF6",
           "showlakes": true,
           "showland": true,
           "subunitcolor": "white"
          },
          "hoverlabel": {
           "align": "left"
          },
          "hovermode": "closest",
          "mapbox": {
           "style": "light"
          },
          "paper_bgcolor": "white",
          "plot_bgcolor": "#E5ECF6",
          "polar": {
           "angularaxis": {
            "gridcolor": "white",
            "linecolor": "white",
            "ticks": ""
           },
           "bgcolor": "#E5ECF6",
           "radialaxis": {
            "gridcolor": "white",
            "linecolor": "white",
            "ticks": ""
           }
          },
          "scene": {
           "xaxis": {
            "backgroundcolor": "#E5ECF6",
            "gridcolor": "white",
            "gridwidth": 2,
            "linecolor": "white",
            "showbackground": true,
            "ticks": "",
            "zerolinecolor": "white"
           },
           "yaxis": {
            "backgroundcolor": "#E5ECF6",
            "gridcolor": "white",
            "gridwidth": 2,
            "linecolor": "white",
            "showbackground": true,
            "ticks": "",
            "zerolinecolor": "white"
           },
           "zaxis": {
            "backgroundcolor": "#E5ECF6",
            "gridcolor": "white",
            "gridwidth": 2,
            "linecolor": "white",
            "showbackground": true,
            "ticks": "",
            "zerolinecolor": "white"
           }
          },
          "shapedefaults": {
           "line": {
            "color": "#2a3f5f"
           }
          },
          "ternary": {
           "aaxis": {
            "gridcolor": "white",
            "linecolor": "white",
            "ticks": ""
           },
           "baxis": {
            "gridcolor": "white",
            "linecolor": "white",
            "ticks": ""
           },
           "bgcolor": "#E5ECF6",
           "caxis": {
            "gridcolor": "white",
            "linecolor": "white",
            "ticks": ""
           }
          },
          "title": {
           "x": 0.05
          },
          "xaxis": {
           "automargin": true,
           "gridcolor": "white",
           "linecolor": "white",
           "ticks": "",
           "title": {
            "standoff": 15
           },
           "zerolinecolor": "white",
           "zerolinewidth": 2
          },
          "yaxis": {
           "automargin": true,
           "gridcolor": "white",
           "linecolor": "white",
           "ticks": "",
           "title": {
            "standoff": 15
           },
           "zerolinecolor": "white",
           "zerolinewidth": 2
          }
         }
        },
        "title": {
         "text": "Windspeed for the Given Location",
         "x": 0.5,
         "xanchor": "center"
        },
        "xaxis": {
         "anchor": "y",
         "domain": [
          0,
          1
         ],
         "title": {
          "text": "Date"
         }
        },
        "yaxis": {
         "anchor": "x",
         "domain": [
          0,
          1
         ],
         "title": {
          "text": "Wind Speed (km/h)"
         }
        }
       }
      }
     },
     "metadata": {},
     "output_type": "display_data"
    }
   ],
   "source": [
    "fig = px.line(data.reset_index(), x='time', y=['wspd'],\n",
    "                title=f'Windspeed for the Given Location',\n",
    "                labels={'time': 'Date', 'wspd': 'Wind Speed'})\n",
    "\n",
    "fig.data[0].name = 'Wind'\n",
    "\n",
    "# Update the legend title\n",
    "fig.update_layout(legend_title='Legend')\n",
    "\n",
    "fig.update_yaxes(title_text='Wind Speed (km/h)')\n",
    "\n",
    "# Center the plot title\n",
    "fig.update_layout(title={'x': 0.5, 'xanchor': 'center'})\n",
    "\n",
    "fig.show()"
   ]
  },
  {
   "cell_type": "code",
   "execution_count": 5,
   "metadata": {},
   "outputs": [
    {
     "data": {
      "application/vnd.plotly.v1+json": {
       "config": {
        "plotlyServerURL": "https://plot.ly"
       },
       "data": [
        {
         "hovertemplate": "variable=prcp<br>Date=%{x}<br>value=%{y}<extra></extra>",
         "legendgroup": "prcp",
         "line": {
          "color": "#636efa",
          "dash": "solid"
         },
         "marker": {
          "symbol": "circle"
         },
         "mode": "lines",
         "name": "Rain",
         "orientation": "v",
         "showlegend": true,
         "type": "scatter",
         "x": [
          "2022-01-01T00:00:00",
          "2022-01-02T00:00:00",
          "2022-01-03T00:00:00",
          "2022-01-04T00:00:00",
          "2022-01-05T00:00:00",
          "2022-01-06T00:00:00",
          "2022-01-07T00:00:00",
          "2022-01-08T00:00:00",
          "2022-01-09T00:00:00",
          "2022-01-10T00:00:00",
          "2022-01-11T00:00:00",
          "2022-01-12T00:00:00",
          "2022-01-13T00:00:00",
          "2022-01-14T00:00:00",
          "2022-01-15T00:00:00",
          "2022-01-16T00:00:00",
          "2022-01-17T00:00:00",
          "2022-01-18T00:00:00",
          "2022-01-19T00:00:00",
          "2022-01-20T00:00:00",
          "2022-01-21T00:00:00",
          "2022-01-22T00:00:00",
          "2022-01-23T00:00:00",
          "2022-01-24T00:00:00",
          "2022-01-25T00:00:00",
          "2022-01-26T00:00:00",
          "2022-01-27T00:00:00",
          "2022-01-28T00:00:00",
          "2022-01-29T00:00:00",
          "2022-01-30T00:00:00",
          "2022-01-31T00:00:00",
          "2022-02-01T00:00:00",
          "2022-02-02T00:00:00",
          "2022-02-03T00:00:00",
          "2022-02-04T00:00:00",
          "2022-02-05T00:00:00",
          "2022-02-06T00:00:00",
          "2022-02-07T00:00:00",
          "2022-02-08T00:00:00",
          "2022-02-09T00:00:00",
          "2022-02-10T00:00:00",
          "2022-02-11T00:00:00",
          "2022-02-12T00:00:00",
          "2022-02-13T00:00:00",
          "2022-02-14T00:00:00",
          "2022-02-15T00:00:00",
          "2022-02-16T00:00:00",
          "2022-02-17T00:00:00",
          "2022-02-18T00:00:00",
          "2022-02-19T00:00:00",
          "2022-02-20T00:00:00",
          "2022-02-21T00:00:00",
          "2022-02-22T00:00:00",
          "2022-02-23T00:00:00",
          "2022-02-24T00:00:00",
          "2022-02-25T00:00:00",
          "2022-02-26T00:00:00",
          "2022-02-27T00:00:00",
          "2022-02-28T00:00:00",
          "2022-03-01T00:00:00",
          "2022-03-02T00:00:00",
          "2022-03-03T00:00:00",
          "2022-03-04T00:00:00",
          "2022-03-05T00:00:00",
          "2022-03-06T00:00:00",
          "2022-03-07T00:00:00",
          "2022-03-08T00:00:00",
          "2022-03-09T00:00:00",
          "2022-03-10T00:00:00",
          "2022-03-11T00:00:00",
          "2022-03-12T00:00:00",
          "2022-03-13T00:00:00",
          "2022-03-14T00:00:00",
          "2022-03-15T00:00:00",
          "2022-03-16T00:00:00",
          "2022-03-17T00:00:00",
          "2022-03-18T00:00:00",
          "2022-03-19T00:00:00",
          "2022-03-20T00:00:00",
          "2022-03-21T00:00:00",
          "2022-03-22T00:00:00",
          "2022-03-23T00:00:00",
          "2022-03-24T00:00:00",
          "2022-03-25T00:00:00",
          "2022-03-26T00:00:00",
          "2022-03-27T00:00:00",
          "2022-03-28T00:00:00",
          "2022-03-29T00:00:00",
          "2022-03-30T00:00:00",
          "2022-03-31T00:00:00",
          "2022-04-01T00:00:00",
          "2022-04-02T00:00:00",
          "2022-04-03T00:00:00",
          "2022-04-04T00:00:00",
          "2022-04-05T00:00:00",
          "2022-04-06T00:00:00",
          "2022-04-07T00:00:00",
          "2022-04-08T00:00:00",
          "2022-04-09T00:00:00",
          "2022-04-10T00:00:00",
          "2022-04-11T00:00:00",
          "2022-04-12T00:00:00",
          "2022-04-13T00:00:00",
          "2022-04-14T00:00:00",
          "2022-04-15T00:00:00",
          "2022-04-16T00:00:00",
          "2022-04-17T00:00:00",
          "2022-04-18T00:00:00",
          "2022-04-19T00:00:00",
          "2022-04-20T00:00:00",
          "2022-04-21T00:00:00",
          "2022-04-22T00:00:00",
          "2022-04-23T00:00:00",
          "2022-04-24T00:00:00",
          "2022-04-25T00:00:00",
          "2022-04-26T00:00:00",
          "2022-04-27T00:00:00",
          "2022-04-28T00:00:00",
          "2022-04-29T00:00:00",
          "2022-04-30T00:00:00",
          "2022-05-01T00:00:00",
          "2022-05-02T00:00:00",
          "2022-05-03T00:00:00",
          "2022-05-04T00:00:00",
          "2022-05-05T00:00:00",
          "2022-05-06T00:00:00",
          "2022-05-07T00:00:00",
          "2022-05-08T00:00:00",
          "2022-05-09T00:00:00",
          "2022-05-10T00:00:00",
          "2022-05-11T00:00:00",
          "2022-05-12T00:00:00",
          "2022-05-13T00:00:00",
          "2022-05-14T00:00:00",
          "2022-05-15T00:00:00",
          "2022-05-16T00:00:00",
          "2022-05-17T00:00:00",
          "2022-05-18T00:00:00",
          "2022-05-19T00:00:00",
          "2022-05-20T00:00:00",
          "2022-05-21T00:00:00",
          "2022-05-22T00:00:00",
          "2022-05-23T00:00:00",
          "2022-05-24T00:00:00",
          "2022-05-25T00:00:00",
          "2022-05-26T00:00:00",
          "2022-05-27T00:00:00",
          "2022-05-28T00:00:00",
          "2022-05-29T00:00:00",
          "2022-05-30T00:00:00",
          "2022-05-31T00:00:00",
          "2022-06-01T00:00:00",
          "2022-06-02T00:00:00",
          "2022-06-03T00:00:00",
          "2022-06-04T00:00:00",
          "2022-06-05T00:00:00",
          "2022-06-06T00:00:00",
          "2022-06-07T00:00:00",
          "2022-06-08T00:00:00",
          "2022-06-09T00:00:00",
          "2022-06-10T00:00:00",
          "2022-06-11T00:00:00",
          "2022-06-12T00:00:00",
          "2022-06-13T00:00:00",
          "2022-06-14T00:00:00",
          "2022-06-15T00:00:00",
          "2022-06-16T00:00:00",
          "2022-06-17T00:00:00",
          "2022-06-18T00:00:00",
          "2022-06-19T00:00:00",
          "2022-06-20T00:00:00",
          "2022-06-21T00:00:00",
          "2022-06-22T00:00:00",
          "2022-06-23T00:00:00",
          "2022-06-24T00:00:00",
          "2022-06-25T00:00:00",
          "2022-06-26T00:00:00",
          "2022-06-27T00:00:00",
          "2022-06-28T00:00:00",
          "2022-06-29T00:00:00",
          "2022-06-30T00:00:00",
          "2022-07-01T00:00:00",
          "2022-07-02T00:00:00",
          "2022-07-03T00:00:00",
          "2022-07-04T00:00:00",
          "2022-07-05T00:00:00",
          "2022-07-06T00:00:00",
          "2022-07-07T00:00:00",
          "2022-07-08T00:00:00",
          "2022-07-09T00:00:00",
          "2022-07-10T00:00:00",
          "2022-07-11T00:00:00",
          "2022-07-12T00:00:00",
          "2022-07-13T00:00:00",
          "2022-07-14T00:00:00",
          "2022-07-15T00:00:00",
          "2022-07-16T00:00:00",
          "2022-07-17T00:00:00",
          "2022-07-18T00:00:00",
          "2022-07-19T00:00:00",
          "2022-07-20T00:00:00",
          "2022-07-21T00:00:00",
          "2022-07-22T00:00:00",
          "2022-07-23T00:00:00",
          "2022-07-24T00:00:00",
          "2022-07-25T00:00:00",
          "2022-07-26T00:00:00",
          "2022-07-27T00:00:00",
          "2022-07-28T00:00:00",
          "2022-07-29T00:00:00",
          "2022-07-30T00:00:00",
          "2022-07-31T00:00:00",
          "2022-08-01T00:00:00",
          "2022-08-02T00:00:00",
          "2022-08-03T00:00:00",
          "2022-08-04T00:00:00",
          "2022-08-05T00:00:00",
          "2022-08-06T00:00:00",
          "2022-08-07T00:00:00",
          "2022-08-08T00:00:00",
          "2022-08-09T00:00:00",
          "2022-08-10T00:00:00",
          "2022-08-11T00:00:00",
          "2022-08-12T00:00:00",
          "2022-08-13T00:00:00",
          "2022-08-14T00:00:00",
          "2022-08-15T00:00:00",
          "2022-08-16T00:00:00",
          "2022-08-17T00:00:00",
          "2022-08-18T00:00:00",
          "2022-08-19T00:00:00",
          "2022-08-20T00:00:00",
          "2022-08-21T00:00:00",
          "2022-08-22T00:00:00",
          "2022-08-23T00:00:00",
          "2022-08-24T00:00:00",
          "2022-08-25T00:00:00",
          "2022-08-26T00:00:00",
          "2022-08-27T00:00:00",
          "2022-08-28T00:00:00",
          "2022-08-29T00:00:00",
          "2022-08-30T00:00:00",
          "2022-08-31T00:00:00",
          "2022-09-01T00:00:00",
          "2022-09-02T00:00:00",
          "2022-09-03T00:00:00",
          "2022-09-04T00:00:00",
          "2022-09-05T00:00:00",
          "2022-09-06T00:00:00",
          "2022-09-07T00:00:00",
          "2022-09-08T00:00:00",
          "2022-09-09T00:00:00",
          "2022-09-10T00:00:00",
          "2022-09-11T00:00:00",
          "2022-09-12T00:00:00",
          "2022-09-13T00:00:00",
          "2022-09-14T00:00:00",
          "2022-09-15T00:00:00",
          "2022-09-16T00:00:00",
          "2022-09-17T00:00:00",
          "2022-09-18T00:00:00",
          "2022-09-19T00:00:00",
          "2022-09-20T00:00:00",
          "2022-09-21T00:00:00",
          "2022-09-22T00:00:00",
          "2022-09-23T00:00:00",
          "2022-09-24T00:00:00",
          "2022-09-25T00:00:00",
          "2022-09-26T00:00:00",
          "2022-09-27T00:00:00",
          "2022-09-28T00:00:00",
          "2022-09-29T00:00:00",
          "2022-09-30T00:00:00",
          "2022-10-01T00:00:00",
          "2022-10-02T00:00:00",
          "2022-10-03T00:00:00",
          "2022-10-04T00:00:00",
          "2022-10-05T00:00:00",
          "2022-10-06T00:00:00",
          "2022-10-07T00:00:00",
          "2022-10-08T00:00:00",
          "2022-10-09T00:00:00",
          "2022-10-10T00:00:00",
          "2022-10-11T00:00:00",
          "2022-10-12T00:00:00",
          "2022-10-13T00:00:00",
          "2022-10-14T00:00:00",
          "2022-10-15T00:00:00",
          "2022-10-16T00:00:00",
          "2022-10-17T00:00:00",
          "2022-10-18T00:00:00",
          "2022-10-19T00:00:00",
          "2022-10-20T00:00:00",
          "2022-10-21T00:00:00",
          "2022-10-22T00:00:00",
          "2022-10-23T00:00:00",
          "2022-10-24T00:00:00",
          "2022-10-25T00:00:00",
          "2022-10-26T00:00:00",
          "2022-10-27T00:00:00",
          "2022-10-28T00:00:00",
          "2022-10-29T00:00:00",
          "2022-10-30T00:00:00",
          "2022-10-31T00:00:00",
          "2022-11-01T00:00:00",
          "2022-11-02T00:00:00",
          "2022-11-03T00:00:00",
          "2022-11-04T00:00:00",
          "2022-11-05T00:00:00",
          "2022-11-06T00:00:00",
          "2022-11-07T00:00:00",
          "2022-11-08T00:00:00",
          "2022-11-09T00:00:00",
          "2022-11-10T00:00:00",
          "2022-11-11T00:00:00",
          "2022-11-12T00:00:00",
          "2022-11-13T00:00:00",
          "2022-11-14T00:00:00",
          "2022-11-15T00:00:00",
          "2022-11-16T00:00:00",
          "2022-11-17T00:00:00",
          "2022-11-18T00:00:00",
          "2022-11-19T00:00:00",
          "2022-11-20T00:00:00",
          "2022-11-21T00:00:00",
          "2022-11-22T00:00:00",
          "2022-11-23T00:00:00",
          "2022-11-24T00:00:00",
          "2022-11-25T00:00:00",
          "2022-11-26T00:00:00",
          "2022-11-27T00:00:00",
          "2022-11-28T00:00:00",
          "2022-11-29T00:00:00",
          "2022-11-30T00:00:00",
          "2022-12-01T00:00:00",
          "2022-12-02T00:00:00",
          "2022-12-03T00:00:00",
          "2022-12-04T00:00:00",
          "2022-12-05T00:00:00",
          "2022-12-06T00:00:00",
          "2022-12-07T00:00:00",
          "2022-12-08T00:00:00",
          "2022-12-09T00:00:00",
          "2022-12-10T00:00:00",
          "2022-12-11T00:00:00",
          "2022-12-12T00:00:00",
          "2022-12-13T00:00:00",
          "2022-12-14T00:00:00",
          "2022-12-15T00:00:00",
          "2022-12-16T00:00:00",
          "2022-12-17T00:00:00",
          "2022-12-18T00:00:00",
          "2022-12-19T00:00:00",
          "2022-12-20T00:00:00",
          "2022-12-21T00:00:00",
          "2022-12-22T00:00:00",
          "2022-12-23T00:00:00",
          "2022-12-24T00:00:00",
          "2022-12-25T00:00:00",
          "2022-12-26T00:00:00",
          "2022-12-27T00:00:00",
          "2022-12-28T00:00:00",
          "2022-12-29T00:00:00",
          "2022-12-30T00:00:00",
          "2022-12-31T00:00:00"
         ],
         "xaxis": "x",
         "y": [
          null,
          null,
          null,
          null,
          null,
          null,
          null,
          null,
          null,
          null,
          null,
          null,
          null,
          null,
          null,
          null,
          null,
          null,
          null,
          null,
          null,
          null,
          null,
          null,
          null,
          null,
          null,
          null,
          null,
          null,
          null,
          null,
          null,
          null,
          null,
          null,
          null,
          null,
          null,
          null,
          null,
          null,
          null,
          null,
          null,
          null,
          null,
          null,
          null,
          null,
          null,
          null,
          null,
          null,
          null,
          null,
          null,
          null,
          null,
          null,
          null,
          null,
          null,
          null,
          null,
          null,
          null,
          null,
          null,
          null,
          null,
          null,
          null,
          null,
          null,
          null,
          null,
          null,
          null,
          null,
          null,
          null,
          null,
          null,
          null,
          null,
          null,
          null,
          null,
          null,
          null,
          null,
          null,
          null,
          null,
          null,
          null,
          null,
          null,
          null,
          null,
          null,
          null,
          null,
          null,
          null,
          null,
          null,
          null,
          null,
          null,
          null,
          null,
          null,
          null,
          null,
          null,
          null,
          null,
          null,
          null,
          null,
          null,
          null,
          null,
          null,
          null,
          null,
          null,
          null,
          null,
          null,
          null,
          null,
          null,
          null,
          null,
          null,
          null,
          null,
          null,
          null,
          null,
          null,
          null,
          null,
          null,
          0,
          0,
          0,
          0,
          0,
          0,
          0,
          0,
          0,
          0,
          0,
          0,
          0,
          0.4,
          2.7,
          0.7,
          0,
          0,
          0,
          0,
          0,
          0,
          0,
          0,
          0,
          0,
          0,
          0,
          0,
          0,
          0,
          0,
          0,
          0,
          0,
          0,
          0,
          0,
          0,
          0,
          0,
          0,
          0,
          0,
          0,
          0,
          0,
          0,
          0,
          0,
          0,
          0,
          0,
          0,
          0,
          0,
          0,
          0,
          0,
          0,
          0,
          0,
          0,
          0,
          0,
          0,
          0,
          0,
          0,
          0,
          0,
          0,
          0,
          0,
          0,
          0,
          0,
          0,
          0,
          0,
          0,
          0,
          0,
          0,
          0,
          0,
          0,
          0.2,
          9.7,
          1.2,
          0.1,
          0,
          0,
          0,
          0,
          0,
          0,
          0,
          0,
          0,
          0,
          0,
          0,
          0,
          0,
          0,
          0,
          0,
          0,
          0,
          0,
          0,
          0,
          0.5,
          0,
          0,
          0,
          0,
          0,
          0,
          0,
          0,
          0,
          0.4,
          1.2,
          0,
          0,
          0,
          0,
          0,
          0,
          0,
          0,
          0,
          0,
          0,
          0,
          0,
          0,
          0.6,
          2.1,
          0.4,
          0,
          0,
          0,
          0,
          0,
          0,
          0,
          0,
          0,
          0,
          0,
          0,
          0,
          0,
          0,
          0,
          0,
          0,
          0,
          0,
          2.5,
          0.9,
          0,
          0,
          0,
          0,
          0,
          0,
          0,
          0,
          0.7,
          0.6,
          1.9,
          0,
          0,
          23.4,
          10.7,
          28.6,
          13.2,
          3.1,
          0,
          0,
          31.4,
          12,
          0.9,
          10.8,
          1.4,
          0,
          0,
          0,
          0,
          0,
          0.7,
          0,
          0.6,
          21.2,
          6.9,
          13.9,
          1.2,
          0,
          0,
          0,
          0,
          0,
          0,
          0,
          0,
          0,
          0,
          0,
          0,
          0,
          0,
          0,
          1.3,
          4.3
         ],
         "yaxis": "y"
        }
       ],
       "layout": {
        "legend": {
         "title": {
          "text": "Legend"
         },
         "tracegroupgap": 0
        },
        "template": {
         "data": {
          "bar": [
           {
            "error_x": {
             "color": "#2a3f5f"
            },
            "error_y": {
             "color": "#2a3f5f"
            },
            "marker": {
             "line": {
              "color": "#E5ECF6",
              "width": 0.5
             },
             "pattern": {
              "fillmode": "overlay",
              "size": 10,
              "solidity": 0.2
             }
            },
            "type": "bar"
           }
          ],
          "barpolar": [
           {
            "marker": {
             "line": {
              "color": "#E5ECF6",
              "width": 0.5
             },
             "pattern": {
              "fillmode": "overlay",
              "size": 10,
              "solidity": 0.2
             }
            },
            "type": "barpolar"
           }
          ],
          "carpet": [
           {
            "aaxis": {
             "endlinecolor": "#2a3f5f",
             "gridcolor": "white",
             "linecolor": "white",
             "minorgridcolor": "white",
             "startlinecolor": "#2a3f5f"
            },
            "baxis": {
             "endlinecolor": "#2a3f5f",
             "gridcolor": "white",
             "linecolor": "white",
             "minorgridcolor": "white",
             "startlinecolor": "#2a3f5f"
            },
            "type": "carpet"
           }
          ],
          "choropleth": [
           {
            "colorbar": {
             "outlinewidth": 0,
             "ticks": ""
            },
            "type": "choropleth"
           }
          ],
          "contour": [
           {
            "colorbar": {
             "outlinewidth": 0,
             "ticks": ""
            },
            "colorscale": [
             [
              0,
              "#0d0887"
             ],
             [
              0.1111111111111111,
              "#46039f"
             ],
             [
              0.2222222222222222,
              "#7201a8"
             ],
             [
              0.3333333333333333,
              "#9c179e"
             ],
             [
              0.4444444444444444,
              "#bd3786"
             ],
             [
              0.5555555555555556,
              "#d8576b"
             ],
             [
              0.6666666666666666,
              "#ed7953"
             ],
             [
              0.7777777777777778,
              "#fb9f3a"
             ],
             [
              0.8888888888888888,
              "#fdca26"
             ],
             [
              1,
              "#f0f921"
             ]
            ],
            "type": "contour"
           }
          ],
          "contourcarpet": [
           {
            "colorbar": {
             "outlinewidth": 0,
             "ticks": ""
            },
            "type": "contourcarpet"
           }
          ],
          "heatmap": [
           {
            "colorbar": {
             "outlinewidth": 0,
             "ticks": ""
            },
            "colorscale": [
             [
              0,
              "#0d0887"
             ],
             [
              0.1111111111111111,
              "#46039f"
             ],
             [
              0.2222222222222222,
              "#7201a8"
             ],
             [
              0.3333333333333333,
              "#9c179e"
             ],
             [
              0.4444444444444444,
              "#bd3786"
             ],
             [
              0.5555555555555556,
              "#d8576b"
             ],
             [
              0.6666666666666666,
              "#ed7953"
             ],
             [
              0.7777777777777778,
              "#fb9f3a"
             ],
             [
              0.8888888888888888,
              "#fdca26"
             ],
             [
              1,
              "#f0f921"
             ]
            ],
            "type": "heatmap"
           }
          ],
          "heatmapgl": [
           {
            "colorbar": {
             "outlinewidth": 0,
             "ticks": ""
            },
            "colorscale": [
             [
              0,
              "#0d0887"
             ],
             [
              0.1111111111111111,
              "#46039f"
             ],
             [
              0.2222222222222222,
              "#7201a8"
             ],
             [
              0.3333333333333333,
              "#9c179e"
             ],
             [
              0.4444444444444444,
              "#bd3786"
             ],
             [
              0.5555555555555556,
              "#d8576b"
             ],
             [
              0.6666666666666666,
              "#ed7953"
             ],
             [
              0.7777777777777778,
              "#fb9f3a"
             ],
             [
              0.8888888888888888,
              "#fdca26"
             ],
             [
              1,
              "#f0f921"
             ]
            ],
            "type": "heatmapgl"
           }
          ],
          "histogram": [
           {
            "marker": {
             "pattern": {
              "fillmode": "overlay",
              "size": 10,
              "solidity": 0.2
             }
            },
            "type": "histogram"
           }
          ],
          "histogram2d": [
           {
            "colorbar": {
             "outlinewidth": 0,
             "ticks": ""
            },
            "colorscale": [
             [
              0,
              "#0d0887"
             ],
             [
              0.1111111111111111,
              "#46039f"
             ],
             [
              0.2222222222222222,
              "#7201a8"
             ],
             [
              0.3333333333333333,
              "#9c179e"
             ],
             [
              0.4444444444444444,
              "#bd3786"
             ],
             [
              0.5555555555555556,
              "#d8576b"
             ],
             [
              0.6666666666666666,
              "#ed7953"
             ],
             [
              0.7777777777777778,
              "#fb9f3a"
             ],
             [
              0.8888888888888888,
              "#fdca26"
             ],
             [
              1,
              "#f0f921"
             ]
            ],
            "type": "histogram2d"
           }
          ],
          "histogram2dcontour": [
           {
            "colorbar": {
             "outlinewidth": 0,
             "ticks": ""
            },
            "colorscale": [
             [
              0,
              "#0d0887"
             ],
             [
              0.1111111111111111,
              "#46039f"
             ],
             [
              0.2222222222222222,
              "#7201a8"
             ],
             [
              0.3333333333333333,
              "#9c179e"
             ],
             [
              0.4444444444444444,
              "#bd3786"
             ],
             [
              0.5555555555555556,
              "#d8576b"
             ],
             [
              0.6666666666666666,
              "#ed7953"
             ],
             [
              0.7777777777777778,
              "#fb9f3a"
             ],
             [
              0.8888888888888888,
              "#fdca26"
             ],
             [
              1,
              "#f0f921"
             ]
            ],
            "type": "histogram2dcontour"
           }
          ],
          "mesh3d": [
           {
            "colorbar": {
             "outlinewidth": 0,
             "ticks": ""
            },
            "type": "mesh3d"
           }
          ],
          "parcoords": [
           {
            "line": {
             "colorbar": {
              "outlinewidth": 0,
              "ticks": ""
             }
            },
            "type": "parcoords"
           }
          ],
          "pie": [
           {
            "automargin": true,
            "type": "pie"
           }
          ],
          "scatter": [
           {
            "fillpattern": {
             "fillmode": "overlay",
             "size": 10,
             "solidity": 0.2
            },
            "type": "scatter"
           }
          ],
          "scatter3d": [
           {
            "line": {
             "colorbar": {
              "outlinewidth": 0,
              "ticks": ""
             }
            },
            "marker": {
             "colorbar": {
              "outlinewidth": 0,
              "ticks": ""
             }
            },
            "type": "scatter3d"
           }
          ],
          "scattercarpet": [
           {
            "marker": {
             "colorbar": {
              "outlinewidth": 0,
              "ticks": ""
             }
            },
            "type": "scattercarpet"
           }
          ],
          "scattergeo": [
           {
            "marker": {
             "colorbar": {
              "outlinewidth": 0,
              "ticks": ""
             }
            },
            "type": "scattergeo"
           }
          ],
          "scattergl": [
           {
            "marker": {
             "colorbar": {
              "outlinewidth": 0,
              "ticks": ""
             }
            },
            "type": "scattergl"
           }
          ],
          "scattermapbox": [
           {
            "marker": {
             "colorbar": {
              "outlinewidth": 0,
              "ticks": ""
             }
            },
            "type": "scattermapbox"
           }
          ],
          "scatterpolar": [
           {
            "marker": {
             "colorbar": {
              "outlinewidth": 0,
              "ticks": ""
             }
            },
            "type": "scatterpolar"
           }
          ],
          "scatterpolargl": [
           {
            "marker": {
             "colorbar": {
              "outlinewidth": 0,
              "ticks": ""
             }
            },
            "type": "scatterpolargl"
           }
          ],
          "scatterternary": [
           {
            "marker": {
             "colorbar": {
              "outlinewidth": 0,
              "ticks": ""
             }
            },
            "type": "scatterternary"
           }
          ],
          "surface": [
           {
            "colorbar": {
             "outlinewidth": 0,
             "ticks": ""
            },
            "colorscale": [
             [
              0,
              "#0d0887"
             ],
             [
              0.1111111111111111,
              "#46039f"
             ],
             [
              0.2222222222222222,
              "#7201a8"
             ],
             [
              0.3333333333333333,
              "#9c179e"
             ],
             [
              0.4444444444444444,
              "#bd3786"
             ],
             [
              0.5555555555555556,
              "#d8576b"
             ],
             [
              0.6666666666666666,
              "#ed7953"
             ],
             [
              0.7777777777777778,
              "#fb9f3a"
             ],
             [
              0.8888888888888888,
              "#fdca26"
             ],
             [
              1,
              "#f0f921"
             ]
            ],
            "type": "surface"
           }
          ],
          "table": [
           {
            "cells": {
             "fill": {
              "color": "#EBF0F8"
             },
             "line": {
              "color": "white"
             }
            },
            "header": {
             "fill": {
              "color": "#C8D4E3"
             },
             "line": {
              "color": "white"
             }
            },
            "type": "table"
           }
          ]
         },
         "layout": {
          "annotationdefaults": {
           "arrowcolor": "#2a3f5f",
           "arrowhead": 0,
           "arrowwidth": 1
          },
          "autotypenumbers": "strict",
          "coloraxis": {
           "colorbar": {
            "outlinewidth": 0,
            "ticks": ""
           }
          },
          "colorscale": {
           "diverging": [
            [
             0,
             "#8e0152"
            ],
            [
             0.1,
             "#c51b7d"
            ],
            [
             0.2,
             "#de77ae"
            ],
            [
             0.3,
             "#f1b6da"
            ],
            [
             0.4,
             "#fde0ef"
            ],
            [
             0.5,
             "#f7f7f7"
            ],
            [
             0.6,
             "#e6f5d0"
            ],
            [
             0.7,
             "#b8e186"
            ],
            [
             0.8,
             "#7fbc41"
            ],
            [
             0.9,
             "#4d9221"
            ],
            [
             1,
             "#276419"
            ]
           ],
           "sequential": [
            [
             0,
             "#0d0887"
            ],
            [
             0.1111111111111111,
             "#46039f"
            ],
            [
             0.2222222222222222,
             "#7201a8"
            ],
            [
             0.3333333333333333,
             "#9c179e"
            ],
            [
             0.4444444444444444,
             "#bd3786"
            ],
            [
             0.5555555555555556,
             "#d8576b"
            ],
            [
             0.6666666666666666,
             "#ed7953"
            ],
            [
             0.7777777777777778,
             "#fb9f3a"
            ],
            [
             0.8888888888888888,
             "#fdca26"
            ],
            [
             1,
             "#f0f921"
            ]
           ],
           "sequentialminus": [
            [
             0,
             "#0d0887"
            ],
            [
             0.1111111111111111,
             "#46039f"
            ],
            [
             0.2222222222222222,
             "#7201a8"
            ],
            [
             0.3333333333333333,
             "#9c179e"
            ],
            [
             0.4444444444444444,
             "#bd3786"
            ],
            [
             0.5555555555555556,
             "#d8576b"
            ],
            [
             0.6666666666666666,
             "#ed7953"
            ],
            [
             0.7777777777777778,
             "#fb9f3a"
            ],
            [
             0.8888888888888888,
             "#fdca26"
            ],
            [
             1,
             "#f0f921"
            ]
           ]
          },
          "colorway": [
           "#636efa",
           "#EF553B",
           "#00cc96",
           "#ab63fa",
           "#FFA15A",
           "#19d3f3",
           "#FF6692",
           "#B6E880",
           "#FF97FF",
           "#FECB52"
          ],
          "font": {
           "color": "#2a3f5f"
          },
          "geo": {
           "bgcolor": "white",
           "lakecolor": "white",
           "landcolor": "#E5ECF6",
           "showlakes": true,
           "showland": true,
           "subunitcolor": "white"
          },
          "hoverlabel": {
           "align": "left"
          },
          "hovermode": "closest",
          "mapbox": {
           "style": "light"
          },
          "paper_bgcolor": "white",
          "plot_bgcolor": "#E5ECF6",
          "polar": {
           "angularaxis": {
            "gridcolor": "white",
            "linecolor": "white",
            "ticks": ""
           },
           "bgcolor": "#E5ECF6",
           "radialaxis": {
            "gridcolor": "white",
            "linecolor": "white",
            "ticks": ""
           }
          },
          "scene": {
           "xaxis": {
            "backgroundcolor": "#E5ECF6",
            "gridcolor": "white",
            "gridwidth": 2,
            "linecolor": "white",
            "showbackground": true,
            "ticks": "",
            "zerolinecolor": "white"
           },
           "yaxis": {
            "backgroundcolor": "#E5ECF6",
            "gridcolor": "white",
            "gridwidth": 2,
            "linecolor": "white",
            "showbackground": true,
            "ticks": "",
            "zerolinecolor": "white"
           },
           "zaxis": {
            "backgroundcolor": "#E5ECF6",
            "gridcolor": "white",
            "gridwidth": 2,
            "linecolor": "white",
            "showbackground": true,
            "ticks": "",
            "zerolinecolor": "white"
           }
          },
          "shapedefaults": {
           "line": {
            "color": "#2a3f5f"
           }
          },
          "ternary": {
           "aaxis": {
            "gridcolor": "white",
            "linecolor": "white",
            "ticks": ""
           },
           "baxis": {
            "gridcolor": "white",
            "linecolor": "white",
            "ticks": ""
           },
           "bgcolor": "#E5ECF6",
           "caxis": {
            "gridcolor": "white",
            "linecolor": "white",
            "ticks": ""
           }
          },
          "title": {
           "x": 0.05
          },
          "xaxis": {
           "automargin": true,
           "gridcolor": "white",
           "linecolor": "white",
           "ticks": "",
           "title": {
            "standoff": 15
           },
           "zerolinecolor": "white",
           "zerolinewidth": 2
          },
          "yaxis": {
           "automargin": true,
           "gridcolor": "white",
           "linecolor": "white",
           "ticks": "",
           "title": {
            "standoff": 15
           },
           "zerolinecolor": "white",
           "zerolinewidth": 2
          }
         }
        },
        "title": {
         "text": "Precipitation for the Given Location",
         "x": 0.5,
         "xanchor": "center"
        },
        "xaxis": {
         "anchor": "y",
         "domain": [
          0,
          1
         ],
         "title": {
          "text": "Date"
         }
        },
        "yaxis": {
         "anchor": "x",
         "domain": [
          0,
          1
         ],
         "title": {
          "text": "Rainfall (mm)"
         }
        }
       }
      }
     },
     "metadata": {},
     "output_type": "display_data"
    }
   ],
   "source": [
    "fig = px.line(data.reset_index(), x='time', y=['prcp'],\n",
    "              title=f'Precipitation for the Given Location',\n",
    "              labels={'time': 'Date', 'prcp': 'Rain'})\n",
    "\n",
    "fig.data[0].name = 'Rain'\n",
    "\n",
    "fig.update_yaxes(title_text='Rainfall (mm)')\n",
    "\n",
    "# Update the legend title\n",
    "fig.update_layout(legend_title='Legend')\n",
    "\n",
    "# Center the plot title\n",
    "fig.update_layout(title={'x': 0.5, 'xanchor': 'center'})\n",
    "\n",
    "fig.show()\n"
   ]
  },
  {
   "cell_type": "code",
   "execution_count": 16,
   "metadata": {},
   "outputs": [],
   "source": [
    "# from datetime import date, timedelta\n",
    "\n",
    "# today = date.today()\n",
    "# five_days_ago = date.today() - timedelta(days=5)\n",
    "# print(five_days_ago)"
   ]
  },
  {
   "cell_type": "code",
   "execution_count": 60,
   "metadata": {},
   "outputs": [
    {
     "name": "stdout",
     "output_type": "stream",
     "text": [
      "\n",
      "Data columns:\n",
      " Index(['time', 'tavg', 'tmin', 'tmax', 'prcp', 'snow', 'wdir', 'wspd', 'wpgt',\n",
      "       'pres', 'tsun'],\n",
      "      dtype='object')\n"
     ]
    }
   ],
   "source": [
    "lat = 35.0\n",
    "lon = 25.0\n",
    "start = datetime(2021, 1, 1)\n",
    "end = datetime(2021, 12, 31)\n",
    "\n",
    "\n",
    "location = Point(lat, lon, 70)\n",
    "\n",
    "data = Daily(location, start, end)\n",
    "data = data.fetch()\n",
    "\n",
    "data = data.reset_index()\n",
    "\n",
    "print(\"\\nData columns:\\n\", data.columns)"
   ]
  },
  {
   "cell_type": "code",
   "execution_count": 61,
   "metadata": {},
   "outputs": [
    {
     "name": "stdout",
     "output_type": "stream",
     "text": [
      "          time  tavg  Tmin  Tmax  prcp  snow   wdir  wspd  wpgt    pres  tsun\n",
      "0   2021-01-01  13.6   9.5  18.4   NaN   NaN  108.0   6.9   NaN  1016.6   NaN\n",
      "1   2021-01-02  14.6  10.0  18.8   NaN   NaN  111.0   8.0   NaN  1018.8   NaN\n",
      "2   2021-01-03  14.7  11.0  19.3   NaN   NaN  116.0   6.9   NaN  1019.2   NaN\n",
      "3   2021-01-04  15.4  12.5  18.8   NaN   NaN  146.0  12.1   NaN  1014.8   NaN\n",
      "4   2021-01-05  13.4   8.6  17.6   NaN   NaN  316.0   9.6   NaN  1017.0   NaN\n",
      "..         ...   ...   ...   ...   ...   ...    ...   ...   ...     ...   ...\n",
      "360 2021-12-27  13.0   8.9  17.5   NaN   NaN  152.0   8.3   NaN  1019.3   NaN\n",
      "361 2021-12-28  13.6  10.8  17.0   NaN   NaN  165.0  11.6   NaN  1013.6   NaN\n",
      "362 2021-12-29  13.7  11.7  16.4   NaN   NaN  158.0   8.9   NaN  1007.2   NaN\n",
      "363 2021-12-30  12.6  11.1  15.1   NaN   NaN   17.0   8.8   NaN  1003.5   NaN\n",
      "364 2021-12-31  14.3  11.7  16.4   NaN   NaN   13.0  15.2   NaN  1008.9   NaN\n",
      "\n",
      "[365 rows x 11 columns]\n"
     ]
    }
   ],
   "source": [
    "# Rename the columns\n",
    "print(data.rename(columns={'tmin': 'Tmin',\n",
    "                           'tmax': 'Tmax'}))\t"
   ]
  },
  {
   "attachments": {},
   "cell_type": "markdown",
   "metadata": {},
   "source": [
    "### Not all coordinates have data in meteostat"
   ]
  },
  {
   "attachments": {},
   "cell_type": "markdown",
   "metadata": {},
   "source": [
    "#### Using nearby stations"
   ]
  },
  {
   "cell_type": "code",
   "execution_count": 21,
   "metadata": {},
   "outputs": [
    {
     "name": "stdout",
     "output_type": "stream",
     "text": [
      "Empty DataFrame\n",
      "Columns: [tavg, tmin, tmax, prcp, snow, wdir, wspd, wpgt, pres, tsun]\n",
      "Index: []\n",
      "<class 'pandas.core.frame.DataFrame'>\n"
     ]
    }
   ],
   "source": [
    "### The Point Class: latitude, longitude, altitude\n",
    "#https://dev.meteostat.net/python/point.html\n",
    "\n",
    "from meteostat import Point, Daily\n",
    "from datetime import datetime\n",
    "\n",
    "import plotly.express as px\n",
    "\n",
    "\n",
    "# Set time period\n",
    "start = datetime(2022, 1, 1)\n",
    "end = datetime(2022, 12, 31)\n",
    "\n",
    "# Create Point (near Istambul in Turkey)\n",
    "location = Point(40 , 30)\n",
    "\n",
    "# Get daily data\n",
    "data = Daily(location, start, end)\n",
    "data = data.fetch()\n",
    "\n",
    "print(data) #no data is queried\n",
    "print(type(data))"
   ]
  },
  {
   "cell_type": "code",
   "execution_count": 24,
   "metadata": {},
   "outputs": [],
   "source": [
    "from meteostat import Stations\n",
    "\n",
    "# Get nearby weather stations\n",
    "stations = Stations()\n",
    "stations = stations.nearby(40 , 30)\n",
    "station = stations.fetch(1) \n",
    "\n",
    "nearest_lat = station['latitude'].values[0]\n",
    "nearest_lon = station['longitude'].values[0]"
   ]
  },
  {
   "cell_type": "code",
   "execution_count": 28,
   "metadata": {},
   "outputs": [
    {
     "name": "stdout",
     "output_type": "stream",
     "text": [
      "            tavg  tmin  tmax  prcp  snow   wdir  wspd  wpgt    pres  tsun\n",
      "time                                                                     \n",
      "2022-01-01   7.4   6.0  10.0   2.6   NaN   10.0   3.0   NaN  1019.4   NaN\n",
      "2022-01-02   7.8   4.0  11.0   2.1   NaN  357.0   4.4   NaN  1023.0   NaN\n",
      "2022-01-03   3.5   0.0   9.0   0.0   NaN  169.0   3.8   NaN  1019.7   NaN\n",
      "2022-01-04   2.3   0.0   8.0   0.0   NaN  252.0   2.8   NaN  1016.8   NaN\n",
      "2022-01-05   4.7  -2.0  17.0   0.0   NaN  226.0   3.2   NaN  1014.1   NaN\n",
      "...          ...   ...   ...   ...   ...    ...   ...   ...     ...   ...\n",
      "2022-12-27   2.3  -3.0  13.0   0.0   NaN  322.0   1.8   NaN  1026.4   NaN\n",
      "2022-12-28   7.0   3.1  13.0   1.4   NaN   28.0   4.4   NaN  1027.1   NaN\n",
      "2022-12-29   6.0   0.0  13.8   0.0   NaN  251.0   2.9   NaN  1026.8   NaN\n",
      "2022-12-30   3.6  -1.0  13.0   0.0   NaN   17.0   2.4   NaN  1027.7   NaN\n",
      "2022-12-31   4.5   0.0  11.0   0.0   NaN   83.0   2.1   NaN  1030.3   NaN\n",
      "\n",
      "[365 rows x 10 columns]\n",
      "<class 'pandas.core.frame.DataFrame'>\n",
      "40.25 29.55\n"
     ]
    }
   ],
   "source": [
    "# Create Point of nearby location for a station\n",
    "location = Point(nearest_lat , nearest_lon) # ---> 42.25 and 29.55 is the closest to our (40,30) input.\n",
    "\n",
    "# Get daily data\n",
    "data = Daily(location, start, end)\n",
    "data = data.fetch()\n",
    "\n",
    "print(data) #no data is queried\n",
    "print(type(data))\n",
    "print(nearest_lat,nearest_lon)"
   ]
  },
  {
   "attachments": {},
   "cell_type": "markdown",
   "metadata": {},
   "source": [
    "#### Downloading csv with valid coordinates"
   ]
  },
  {
   "cell_type": "code",
   "execution_count": 1,
   "metadata": {},
   "outputs": [
    {
     "name": "stderr",
     "output_type": "stream",
     "text": [
      "Warning: Cannot load daily/11722.csv.gz from https://bulk.meteostat.net/v2/\n",
      "Warning: Cannot load daily/12425.csv.gz from https://bulk.meteostat.net/v2/\n",
      "Warning: Cannot load daily/12106.csv.gz from https://bulk.meteostat.net/v2/\n"
     ]
    },
    {
     "name": "stdout",
     "output_type": "stream",
     "text": [
      "[(49, 14), (49, 15), (49, 16), (49, 17), (49, 20), (49, 21), (49, 22), (49, 24), (50, 14), (50, 15), (50, 16), (50, 18), (50, 19), (50, 20), (50, 21), (50, 22), (50, 23), (50, 24), (51, 14), (51, 15), (51, 16), (51, 17), (51, 19), (51, 21), (51, 24), (52, 14), (52, 15), (52, 16), (52, 18), (52, 19), (52, 21), (52, 22), (52, 24), (53, 14), (53, 15), (53, 17), (53, 19), (53, 20), (53, 22), (53, 23), (54, 14), (54, 16), (54, 19), (54, 21), (54, 23)]\n"
     ]
    }
   ],
   "source": [
    "from meteostat import Point, Daily\n",
    "from datetime import datetime\n",
    "import pandas as pd\n",
    "\n",
    "def find_valid_coordinates(lat_range, lon_range, start, end):\n",
    "    valid_coordinates = []\n",
    "\n",
    "    for lat in lat_range:\n",
    "        for lon in lon_range:\n",
    "            location = Point(lat, lon)\n",
    "            data = Daily(location, start, end)\n",
    "            data = data.fetch()\n",
    "\n",
    "            if not data.empty:\n",
    "                valid_coordinates.append((lat, lon))\n",
    "\n",
    "    return valid_coordinates\n",
    "\n",
    "# Set the range of Polish latitude and longitude\n",
    "polish_lat_range = [49, 50, 51, 52, 53, 54]\n",
    "polish_lon_range = [14, 15, 16, 17, 18, 19, 20, 21, 22, 23, 24]\n",
    "\n",
    "# Set time period\n",
    "start = datetime(2023, 1, 1)\n",
    "end = datetime(2023, 1, 31)\n",
    "\n",
    "# Find valid coordinates\n",
    "valid_coords = find_valid_coordinates(polish_lat_range, polish_lon_range, start, end)\n",
    "print(valid_coords)\n"
   ]
  },
  {
   "cell_type": "code",
   "execution_count": 4,
   "metadata": {},
   "outputs": [
    {
     "data": {
      "text/plain": [
       "45"
      ]
     },
     "execution_count": 4,
     "metadata": {},
     "output_type": "execute_result"
    }
   ],
   "source": [
    "len(valid_coords)"
   ]
  },
  {
   "cell_type": "code",
   "execution_count": 7,
   "metadata": {},
   "outputs": [
    {
     "data": {
      "text/plain": [
       "list"
      ]
     },
     "execution_count": 7,
     "metadata": {},
     "output_type": "execute_result"
    }
   ],
   "source": [
    "type(valid_coords)"
   ]
  },
  {
   "cell_type": "code",
   "execution_count": 8,
   "metadata": {},
   "outputs": [],
   "source": [
    "# writing the existing locations in csv\n",
    "\n",
    "import csv\n",
    "\n",
    "with open('valid_coords.csv', 'w', newline='') as csvfile:\n",
    "    coord_writer = csv.writer(csvfile)\n",
    "    coord_writer.writerow(['lat', 'lon'])\n",
    "    for coord in valid_coords:\n",
    "        coord_writer.writerow(coord)"
   ]
  },
  {
   "cell_type": "code",
   "execution_count": 9,
   "metadata": {},
   "outputs": [],
   "source": [
    "import pandas as pd\n",
    "\n",
    "# Load valid coordinates from the CSV file\n",
    "valid_coords = pd.read_csv('valid_coords.csv')"
   ]
  },
  {
   "attachments": {},
   "cell_type": "markdown",
   "metadata": {},
   "source": [
    "## DASH"
   ]
  },
  {
   "attachments": {},
   "cell_type": "markdown",
   "metadata": {},
   "source": [
    "### V1"
   ]
  },
  {
   "attachments": {},
   "cell_type": "markdown",
   "metadata": {},
   "source": [
    "#### V1.0"
   ]
  },
  {
   "cell_type": "code",
   "execution_count": 26,
   "metadata": {},
   "outputs": [
    {
     "data": {
      "text/html": [
       "\n",
       "        <iframe\n",
       "            width=\"100%\"\n",
       "            height=\"650\"\n",
       "            src=\"http://127.0.0.1:8054/\"\n",
       "            frameborder=\"0\"\n",
       "            allowfullscreen\n",
       "            \n",
       "        ></iframe>\n",
       "        "
      ],
      "text/plain": [
       "<IPython.lib.display.IFrame at 0x26984574d00>"
      ]
     },
     "metadata": {},
     "output_type": "display_data"
    }
   ],
   "source": [
    "# import dash\n",
    "# from dash import html #import dash_core_components as dcc\n",
    "# from dash import dcc\n",
    "# from dash.dependencies import Input, Output\n",
    "# from datetime import datetime, timedelta, date\n",
    "# from meteostat import Point, Daily\n",
    "\n",
    "# import plotly.express as px\n",
    "# import dash_leaflet as dl\n",
    "# from jupyter_dash import JupyterDash\n",
    "\n",
    "app = JupyterDash(__name__, external_stylesheets=['https://maxcdn.bootstrapcdn.com/bootstrap/4.5.2/css/bootstrap.min.css'])\n",
    "\n",
    "def plot_tmax_boxplot(lat, lon, start, end, variable):\n",
    "    location = Point(lat, lon, 70)\n",
    "    \n",
    "    data = Daily(location, start, end)\n",
    "    data = data.fetch()\n",
    "\n",
    "    data=data.reset_index()\n",
    "\n",
    "    data['Month'] = data['time'].dt.month\n",
    "\n",
    "    fig = px.box(data, x='Month', y=variable, title='Monthly Tmax Boxplot')\n",
    "    return fig\n",
    "\n",
    "def plot_weather_data(lat, lon, start, end):\n",
    "    location = Point(lat, lon, 70)\n",
    "    \n",
    "    data = Daily(location, start, end)\n",
    "    data = data.fetch()\n",
    "\n",
    "    data=data.reset_index()\n",
    "\n",
    "    fig = px.line(data, x='time', y=['tmin','tmax'],\n",
    "                  title=f'Temperature min/max for the Given Location ({lat:.2f},{lon:.2f})',\n",
    "                  labels={'time': 'Date', 'tmin': 'Min Temp', 'tmax': 'Max Temp'})\n",
    "\n",
    "    fig.update_yaxes(title_text='Temperature')\n",
    "\n",
    "\n",
    "    return (fig)\n",
    "\n",
    "app.layout = html.Div([\n",
    "    html.H1('Trip Planner', style={'textAlign': 'center', 'padding': '20px'}),\n",
    "    dcc.DatePickerRange(\n",
    "        id='date-picker',\n",
    "        min_date_allowed=datetime(2000, 1, 1),\n",
    "        max_date_allowed= date.today() - timedelta(days=7), #datetime(2022, 12, 31),\n",
    "        start_date=datetime(2021, 1, 1),\n",
    "        end_date=datetime(2022, 12, 31),\n",
    "        display_format='MMM DD, YYYY'\n",
    "    ),\n",
    "    dl.Map(\n",
    "        [dl.TileLayer(), dl.LayerGroup(id=\"layer\")],\n",
    "        id='map',\n",
    "        style={'width': '100%', 'height': '50vh', 'margin': \"auto\", \"display\": \"block\"},\n",
    "        center=[35, 25],\n",
    "        zoom=4,\n",
    "        #click_lat_lng=True,\n",
    "    ),\n",
    "    dcc.Graph(id='weather-plot'),\n",
    "    html.Label('Select variable for boxplot:'),\n",
    "    dcc.Dropdown(\n",
    "        id='boxplot-variable',\n",
    "        options=[\n",
    "            {'label': 'Tmax', 'value': 'tmax'},\n",
    "            {'label': 'Tmin', 'value': 'tmin'}\n",
    "        ],\n",
    "        value='tmax'\n",
    "    ),\n",
    "    dcc.Graph(id='tmax-boxplot')\n",
    "])\n",
    "\n",
    "@app.callback(\n",
    "    Output('layer', 'children'),\n",
    "    [Input('map', 'click_lat_lng')],\n",
    ")\n",
    "def update_markers(click_lat_lng):\n",
    "    if not click_lat_lng:\n",
    "        click_lat_lng = [35, 25]\n",
    "    return [dl.Marker(position=click_lat_lng, children=dl.Tooltip(f\"({click_lat_lng[0]:.2f}, {click_lat_lng[1]:.2f})\"))]\n",
    "\n",
    "@app.callback(\n",
    "    [Output('weather-plot', 'figure'), Output('tmax-boxplot', 'figure')],\n",
    "    [Input('map', 'click_lat_lng'), Input('date-picker', 'start_date'), Input('date-picker', 'end_date'), Input('boxplot-variable', 'value')],\n",
    ")\n",
    "def update_weather_plots(click_lat_lng, start_date, end_date, boxplot_variable):\n",
    "    if not click_lat_lng:\n",
    "        lat, lon = 35, 25\n",
    "    else:\n",
    "        lat = int(click_lat_lng[0])\n",
    "        lon = int(click_lat_lng[1])\n",
    "    \n",
    "   \n",
    "    start = datetime(int(start_date[0:4]),\n",
    "                    int(start_date[5:7]),\n",
    "                    int(start_date[8:10]))\n",
    "    end = datetime(2022, 12, 31)\n",
    "    \n",
    "    line_plot = plot_weather_data(lat, lon, start, end)\n",
    "    \n",
    "    \n",
    "    box_plot = plot_tmax_boxplot(lat, lon, start, end, boxplot_variable)\n",
    "    \n",
    "    return line_plot, box_plot\n",
    "    \n",
    "\n",
    "# Start of the application\n",
    "if __name__ == '__main__':\n",
    "    app.run_server(mode=\"inline\", port=8054)\n"
   ]
  },
  {
   "attachments": {},
   "cell_type": "markdown",
   "metadata": {},
   "source": [
    "#### V1.1: Temp, Wind, Rain"
   ]
  },
  {
   "cell_type": "code",
   "execution_count": 5,
   "metadata": {},
   "outputs": [
    {
     "data": {
      "text/html": [
       "\n",
       "        <iframe\n",
       "            width=\"100%\"\n",
       "            height=\"650\"\n",
       "            src=\"http://127.0.0.1:8054/\"\n",
       "            frameborder=\"0\"\n",
       "            allowfullscreen\n",
       "            \n",
       "        ></iframe>\n",
       "        "
      ],
      "text/plain": [
       "<IPython.lib.display.IFrame at 0x1f433c12e50>"
      ]
     },
     "metadata": {},
     "output_type": "display_data"
    }
   ],
   "source": [
    "import dash\n",
    "from dash import html \n",
    "from dash import dcc\n",
    "from dash.dependencies import Input, Output\n",
    "from datetime import datetime, timedelta, date\n",
    "from meteostat import Point, Daily\n",
    "\n",
    "import plotly.express as px\n",
    "import dash_leaflet as dl\n",
    "from jupyter_dash import JupyterDash\n",
    "\n",
    "app = JupyterDash(__name__, external_stylesheets=['https://maxcdn.bootstrapcdn.com/bootstrap/4.5.2/css/bootstrap.min.css'])\n",
    "\n",
    "def plot_tmax_boxplot(lat, lon, start, end, variable):\n",
    "    location = Point(lat, lon, 70)\n",
    "    \n",
    "    data = Daily(location, start, end)\n",
    "    data = data.fetch()\n",
    "\n",
    "    data = data.reset_index()\n",
    "\n",
    "    data['month'] = data['time'].dt.month_name()\n",
    "\n",
    "    fig = px.box(data, x='month', y=variable, title='Monthly Summaries -  Boxplot')\n",
    "\n",
    "    fig.update_xaxes(title_text='Month')\n",
    "    fig.update_yaxes(title_text=('Max Temperature (°C)' if variable == 'tmax' else\n",
    "                              'Min Temperature (°C)' if variable == 'tmin' else\n",
    "                              'Wind (km/h)' if variable == 'wspd' else\n",
    "                              'Rain (mm)'))\n",
    "    return fig\n",
    "\n",
    "def plot_weather_data(lat, lon, start, end):\n",
    "    location = Point(lat, lon, 70)\n",
    "    \n",
    "    data = Daily(location, start, end)\n",
    "    data = data.fetch()\n",
    "\n",
    "    data = data.reset_index()\n",
    "\n",
    "    # Rename the columns\n",
    "    data = data.rename(columns={'tmin': 'Tmin',\n",
    "                           'tmax': 'Tmax'})\n",
    "\n",
    "    fig = px.line(data, x='time', y=['Tmin', 'Tmax'],\n",
    "                  title=f'Temperature Min/Max for the Given Location ({lat:.2f}, {lon:.2f})',\n",
    "                  labels={'time': 'Date'})\n",
    "    fig.update_yaxes(title_text='Temperature °C')\n",
    "\n",
    "    fig.data[0].name = 'Tmin'\n",
    "    fig.data[1].name = 'Tmax'\n",
    "\n",
    "    # Update the legend title\n",
    "    fig.update_layout(legend_title='Legend')\n",
    "\n",
    "    return fig\n",
    "\n",
    "\n",
    "app.layout = html.Div([\n",
    "    html.H1('Trip Planner', style={'textAlign': 'center', 'padding': '20px'}),\n",
    "    dcc.DatePickerRange(\n",
    "        id='date-picker',\n",
    "        min_date_allowed=datetime(2000, 1, 1),\n",
    "        max_date_allowed= date.today() - timedelta(days=7),\n",
    "        start_date=datetime(2021, 1, 1),\n",
    "        end_date=datetime(2022, 12, 31),\n",
    "        display_format='MMM DD, YYYY',\n",
    "        style = {\n",
    "                        'font-size': '6px','display': 'inline-block', 'border-radius' : '2px', \n",
    "                        'border' : '1px solid #ccc', 'color': '#333', \n",
    "                        'border-spacing' : '0', 'border-collapse' :'separate'\n",
    "                        } \n",
    "    ),\n",
    "    dl.Map(\n",
    "        [dl.TileLayer(), dl.LayerGroup(id=\"layer\")],\n",
    "        id='map',\n",
    "        style={'width': '100%', 'height': '50vh', 'margin': \"auto\", \"display\": \"block\"},\n",
    "        center=[35, 25],\n",
    "        zoom=4,\n",
    "        #click_lat_lng=True,\n",
    "    ),\n",
    "    dcc.Graph(id='weather-plot'),\n",
    "    html.Label('Select a variable to display in the Boxplot:'),\n",
    "    dcc.Dropdown(\n",
    "        id='boxplot-variable',\n",
    "        options=[\n",
    "            {'label': 'Temperature Max °C', 'value': 'tmax'},\n",
    "            {'label': 'Temperature Min °C', 'value': 'tmin'},\n",
    "            {'label': 'Wind (km/h)', 'value': 'wspd'},\n",
    "            {'label': 'Rain (mm)', 'value': 'prcp'},\n",
    "        ],\n",
    "        value='tmax'\n",
    "    ),\n",
    "    dcc.Graph(id='tmax-boxplot'),\n",
    "    html.Div([\n",
    "        html.H4(\"About\"),\n",
    "        html.A(\"My Blog - FossEngineer\", href=\"https://fossengineer.com\", target=\"_blank\"),\n",
    "        html.Br(),\n",
    "        html.A(\"About this App - FossEngineer\", href=\"https://fossengineer.com/python-trip-planner/\", target=\"_blank\"),\n",
    "        html.Br(),\n",
    "        html.A(\"Source Code\", href=\"https://github.com/JAlcocerT/Py_Trip_Planner/\", target=\"_blank\"),\n",
    "    ], style={'float': 'right'})\n",
    "])\n",
    "\n",
    "@app.callback(\n",
    "    Output('layer', 'children'),\n",
    "    [Input('map', 'click_lat_lng')],\n",
    ")\n",
    "def update_markers(click_lat_lng):\n",
    "    if not click_lat_lng:\n",
    "        click_lat_lng = [35, 25]\n",
    "    return [dl.Marker(position=click_lat_lng, children=dl.Tooltip(f\"({click_lat_lng[0]:.2f}, {click_lat_lng[1]:.2f})\"))]\n",
    "\n",
    "@app.callback(\n",
    "    [Output('weather-plot', 'figure'), Output('tmax-boxplot', 'figure')],\n",
    "    [Input('map', 'click_lat_lng'), Input('date-picker', 'start_date'), Input('date-picker', 'end_date'), Input('boxplot-variable', 'value')],\n",
    ")\n",
    "def update_weather_plots(click_lat_lng, start_date, end_date, boxplot_variable):\n",
    "    if not click_lat_lng:\n",
    "        lat, lon = 35, 25\n",
    "    else:\n",
    "        lat = int(click_lat_lng[0])\n",
    "        lon = int(click_lat_lng[1])\n",
    "    \n",
    "   \n",
    "    start = datetime(int(start_date[0:4]),\n",
    "                    int(start_date[5:7]),\n",
    "                    int(start_date[8:10]))\n",
    "    end = datetime(2022, 12, 31)\n",
    "    \n",
    "    line_plot = plot_weather_data(lat, lon, start, end)\n",
    "    \n",
    "    \n",
    "    box_plot = plot_tmax_boxplot(lat, lon, start, end, boxplot_variable)\n",
    "    \n",
    "    return line_plot, box_plot\n",
    "    \n",
    "\n",
    "# Start of the application\n",
    "if __name__ == '__main__':\n",
    "    app.run_server(mode=\"inline\", port=8054)"
   ]
  },
  {
   "attachments": {},
   "cell_type": "markdown",
   "metadata": {},
   "source": [
    "#### V1.2 Adding nearby locations"
   ]
  },
  {
   "cell_type": "code",
   "execution_count": 43,
   "metadata": {},
   "outputs": [
    {
     "data": {
      "text/html": [
       "\n",
       "        <iframe\n",
       "            width=\"100%\"\n",
       "            height=\"650\"\n",
       "            src=\"http://127.0.0.1:8054/\"\n",
       "            frameborder=\"0\"\n",
       "            allowfullscreen\n",
       "            \n",
       "        ></iframe>\n",
       "        "
      ],
      "text/plain": [
       "<IPython.lib.display.IFrame at 0x209171abbe0>"
      ]
     },
     "metadata": {},
     "output_type": "display_data"
    }
   ],
   "source": [
    "import dash\n",
    "from dash import html \n",
    "from dash import dcc\n",
    "from dash.dependencies import Input, Output\n",
    "\n",
    "from datetime import datetime, timedelta, date\n",
    "\n",
    "from meteostat import Point, Daily\n",
    "from meteostat import Stations #new in v1.2\n",
    "\n",
    "import plotly.express as px\n",
    "import dash_leaflet as dl\n",
    "\n",
    "from jupyter_dash import JupyterDash\n",
    "\n",
    "app = JupyterDash(__name__, external_stylesheets=['https://maxcdn.bootstrapcdn.com/bootstrap/4.5.2/css/bootstrap.min.css'])\n",
    "\n",
    "def plot_tmax_boxplot(lat, lon, start, end, variable):\n",
    "    location = Point(lat, lon)\n",
    "    \n",
    "    data = Daily(location, start, end)\n",
    "    data = data.fetch()\n",
    "\n",
    "    data = data.reset_index()\n",
    "\n",
    "    data['month'] = data['time'].dt.month_name()\n",
    "\n",
    "    fig = px.box(data, x='month', y=variable, title='Monthly Summaries -  Boxplot')\n",
    "\n",
    "    fig.update_xaxes(title_text='Month')\n",
    "    fig.update_yaxes(title_text=('Max Temperature (°C)' if variable == 'tmax' else\n",
    "                              'Min Temperature (°C)' if variable == 'tmin' else\n",
    "                              'Wind (km/h)' if variable == 'wspd' else\n",
    "                              'Rain (mm)'))\n",
    "    return fig\n",
    "\n",
    "def plot_weather_data(lat, lon, start, end):\n",
    "    location = Point(lat, lon)\n",
    "    \n",
    "    data = Daily(location, start, end)\n",
    "    data = data.fetch()\n",
    "\n",
    "    data = data.reset_index()\n",
    "\n",
    "    # Rename the columns\n",
    "    data = data.rename(columns={'tmin': 'Tmin',\n",
    "                           'tmax': 'Tmax'})\n",
    "\n",
    "    fig = px.line(data, x='time', y=['Tmin', 'Tmax'],\n",
    "                  title=f'Temperature Min/Max for the Given Location ({lat:.2f}, {lon:.2f})',\n",
    "                  labels={'time': 'Date'})\n",
    "    fig.update_yaxes(title_text='Temperature °C')\n",
    "\n",
    "    fig.data[0].name = 'Tmin'\n",
    "    fig.data[1].name = 'Tmax'\n",
    "\n",
    "    # Update the legend title\n",
    "    fig.update_layout(legend_title='Legend')\n",
    "\n",
    "    return fig\n",
    "\n",
    "\n",
    "app.layout = html.Div([\n",
    "    html.H1('Trip Planner', style={'textAlign': 'center', 'padding': '20px'}),\n",
    "    dcc.DatePickerRange(\n",
    "        id='date-picker',\n",
    "        min_date_allowed=datetime(2000, 1, 1),\n",
    "        max_date_allowed= date.today() - timedelta(days=7),\n",
    "        start_date=datetime(2021, 1, 1),\n",
    "        end_date=datetime(2022, 12, 31),\n",
    "        display_format='MMM DD, YYYY',\n",
    "        style = {\n",
    "                        'font-size': '6px','display': 'inline-block', 'border-radius' : '2px', \n",
    "                        'border' : '1px solid #ccc', 'color': '#333', \n",
    "                        'border-spacing' : '0', 'border-collapse' :'separate'\n",
    "                        } \n",
    "    ),\n",
    "    dl.Map(\n",
    "        [dl.TileLayer(), dl.LayerGroup(id=\"layer\")],\n",
    "        id='map',\n",
    "        style={'width': '100%', 'height': '50vh', 'margin': \"auto\", \"display\": \"block\"},\n",
    "        center=[35, 25],\n",
    "        zoom=4,\n",
    "        #click_lat_lng=True,\n",
    "    ),\n",
    "    dcc.Graph(id='weather-plot'),\n",
    "    html.Label('Select a variable to display in the Boxplot:'),\n",
    "    dcc.Dropdown(\n",
    "        id='boxplot-variable',\n",
    "        options=[\n",
    "            {'label': 'Temperature Max °C', 'value': 'tmax'},\n",
    "            {'label': 'Temperature Min °C', 'value': 'tmin'},\n",
    "            {'label': 'Wind (km/h)', 'value': 'wspd'},\n",
    "            {'label': 'Rain (mm)', 'value': 'prcp'},\n",
    "        ],\n",
    "        value='tmax'\n",
    "    ),\n",
    "    dcc.Graph(id='tmax-boxplot'),\n",
    "    html.Div([\n",
    "        html.H4(\"About\"),\n",
    "        html.A(\"My Blog - FossEngineer\", href=\"https://fossengineer.com\", target=\"_blank\"),\n",
    "        html.Br(),\n",
    "        html.A(\"About this App - FossEngineer\", href=\"https://fossengineer.com/python-trip-planner/\", target=\"_blank\"),\n",
    "        html.Br(),\n",
    "        html.A(\"Source Code\", href=\"https://github.com/JAlcocerT/Py_Trip_Planner/\", target=\"_blank\"),\n",
    "    ], style={'float': 'right'})\n",
    "])\n",
    "\n",
    "@app.callback(\n",
    "    Output('layer', 'children'),\n",
    "    [Input('map', 'click_lat_lng')],\n",
    ")\n",
    "# def update_markers(click_lat_lng):\n",
    "#     if not click_lat_lng:\n",
    "#         click_lat_lng = [35, 25]\n",
    "#     return [dl.Marker(position=click_lat_lng, children=dl.Tooltip(f\"({click_lat_lng[0]:.2f}, {click_lat_lng[1]:.2f})\"))]\n",
    "\n",
    "def update_markers(click_lat_lng):\n",
    "    if not click_lat_lng:\n",
    "        click_lat_lng = [35, 25]\n",
    "    return [\n",
    "        dl.Marker(position=click_lat_lng, children=dl.Tooltip(f\"({click_lat_lng[0]:.2f}, {click_lat_lng[1]:.2f})\")),\n",
    "        #dl.Marker(position=[nearest_alt, nearest_lon], children=dl.Tooltip(f\"({nearest_alt:.2f}, {nearest_lon:.2f})\"))\n",
    "        dl.CircleMarker(center=[nearest_alt, nearest_lon], color=\"#188399\",)\n",
    "    ]\n",
    "\n",
    "@app.callback(\n",
    "    [Output('weather-plot', 'figure'), Output('tmax-boxplot', 'figure')],\n",
    "    [Input('map', 'click_lat_lng'), Input('date-picker', 'start_date'), Input('date-picker', 'end_date'), Input('boxplot-variable', 'value')],\n",
    ")\n",
    "def update_weather_plots(click_lat_lng, start_date, end_date, boxplot_variable):\n",
    "    global nearest_alt, nearest_lon\n",
    "    if not click_lat_lng:\n",
    "        lat, lon = 35, 25\n",
    "    else:\n",
    "        lat = int(click_lat_lng[0])\n",
    "        lon = int(click_lat_lng[1])\n",
    "    \n",
    "   # Get nearby weather stations  - V1.2\n",
    "    stations = Stations()\n",
    "    stations = stations.nearby(lat, lon) \n",
    "    station = stations.fetch(1) #the closest station to the input location\n",
    "\n",
    "    nearest_alt = station['latitude'].values[0]\n",
    "    nearest_lon = station['longitude'].values[0]\n",
    "    ###\n",
    "\n",
    "    start = datetime(int(start_date[0:4]),\n",
    "                    int(start_date[5:7]),\n",
    "                    int(start_date[8:10]))\n",
    "    end = datetime(2022, 12, 31)\n",
    "    \n",
    "    #line_plot = plot_weather_data(lat, lon, start, end)\n",
    "    line_plot = plot_weather_data(nearest_alt, nearest_lon, start, end)\n",
    "    \n",
    "    #box_plot = plot_tmax_boxplot(lat, lon, start, end, boxplot_variable)\n",
    "    box_plot = plot_tmax_boxplot(nearest_alt, nearest_lon, start, end, boxplot_variable)\n",
    "    \n",
    "    return line_plot, box_plot\n",
    "    \n",
    "\n",
    "# Start of the application\n",
    "if __name__ == '__main__':\n",
    "    app.run_server(mode=\"inline\", port=8054)"
   ]
  },
  {
   "attachments": {},
   "cell_type": "markdown",
   "metadata": {},
   "source": [
    "### V2 Adding Weather Forecast with OpenMeteo"
   ]
  },
  {
   "cell_type": "code",
   "execution_count": null,
   "metadata": {},
   "outputs": [],
   "source": [
    "import dash\n",
    "from dash import html \n",
    "from dash import dcc\n",
    "from dash.dependencies import Input, Output\n",
    "\n",
    "from datetime import datetime, timedelta, date\n",
    "\n",
    "from meteostat import Point, Daily\n",
    "from meteostat import Stations #new in v1.2\n",
    "\n",
    "import plotly.express as px\n",
    "import dash_leaflet as dl\n",
    "\n",
    "from jupyter_dash import JupyterDash\n",
    "\n",
    "app = JupyterDash(__name__, external_stylesheets=['https://maxcdn.bootstrapcdn.com/bootstrap/4.5.2/css/bootstrap.min.css'])\n",
    "\n",
    "def plot_tmax_boxplot(lat, lon, start, end, variable):\n",
    "    location = Point(lat, lon)\n",
    "    \n",
    "    data = Daily(location, start, end)\n",
    "    data = data.fetch()\n",
    "\n",
    "    data = data.reset_index()\n",
    "\n",
    "    data['month'] = data['time'].dt.month_name()\n",
    "\n",
    "    fig = px.box(data, x='month', y=variable, title='Monthly Summaries -  Boxplot')\n",
    "\n",
    "    fig.update_xaxes(title_text='Month')\n",
    "    fig.update_yaxes(title_text=('Max Temperature (°C)' if variable == 'tmax' else\n",
    "                              'Min Temperature (°C)' if variable == 'tmin' else\n",
    "                              'Wind (km/h)' if variable == 'wspd' else\n",
    "                              'Rain (mm)'))\n",
    "    return fig\n",
    "\n",
    "def plot_weather_data(lat, lon, start, end):\n",
    "    location = Point(lat, lon)\n",
    "    \n",
    "    data = Daily(location, start, end)\n",
    "    data = data.fetch()\n",
    "\n",
    "    data = data.reset_index()\n",
    "\n",
    "    # Rename the columns\n",
    "    data = data.rename(columns={'tmin': 'Tmin',\n",
    "                           'tmax': 'Tmax'})\n",
    "\n",
    "    fig = px.line(data, x='time', y=['Tmin', 'Tmax'],\n",
    "                  title=f'Temperature Min/Max for the Given Location ({lat:.2f}, {lon:.2f})',\n",
    "                  labels={'time': 'Date'})\n",
    "    fig.update_yaxes(title_text='Temperature °C')\n",
    "\n",
    "    fig.data[0].name = 'Tmin'\n",
    "    fig.data[1].name = 'Tmax'\n",
    "\n",
    "    # Update the legend title\n",
    "    fig.update_layout(legend_title='Legend')\n",
    "\n",
    "    return fig\n",
    "\n",
    "\n",
    "app.layout = html.Div([\n",
    "    html.H1('Trip Planner', style={'textAlign': 'center', 'padding': '20px'}),\n",
    "    dcc.DatePickerRange(\n",
    "        id='date-picker',\n",
    "        min_date_allowed=datetime(2000, 1, 1),\n",
    "        max_date_allowed= date.today() - timedelta(days=7),\n",
    "        start_date=datetime(2021, 1, 1),\n",
    "        end_date=datetime(2022, 12, 31),\n",
    "        display_format='MMM DD, YYYY',\n",
    "        style = {\n",
    "                        'font-size': '6px','display': 'inline-block', 'border-radius' : '2px', \n",
    "                        'border' : '1px solid #ccc', 'color': '#333', \n",
    "                        'border-spacing' : '0', 'border-collapse' :'separate'\n",
    "                        } \n",
    "    ),\n",
    "    dl.Map(\n",
    "        [dl.TileLayer(), dl.LayerGroup(id=\"layer\")],\n",
    "        id='map',\n",
    "        style={'width': '100%', 'height': '50vh', 'margin': \"auto\", \"display\": \"block\"},\n",
    "        center=[35, 25],\n",
    "        zoom=4,\n",
    "        #click_lat_lng=True,\n",
    "    ),\n",
    "    dcc.Graph(id='weather-plot'),\n",
    "    html.Label('Select a variable to display in the Boxplot:'),\n",
    "    dcc.Dropdown(\n",
    "        id='boxplot-variable',\n",
    "        options=[\n",
    "            {'label': 'Temperature Max °C', 'value': 'tmax'},\n",
    "            {'label': 'Temperature Min °C', 'value': 'tmin'},\n",
    "            {'label': 'Wind (km/h)', 'value': 'wspd'},\n",
    "            {'label': 'Rain (mm)', 'value': 'prcp'},\n",
    "        ],\n",
    "        value='tmax'\n",
    "    ),\n",
    "    dcc.Graph(id='tmax-boxplot'),\n",
    "    html.Div([\n",
    "        html.H4(\"About\"),\n",
    "        html.A(\"My Blog - FossEngineer\", href=\"https://fossengineer.com\", target=\"_blank\"),\n",
    "        html.Br(),\n",
    "        html.A(\"About this App - FossEngineer\", href=\"https://fossengineer.com/python-trip-planner/\", target=\"_blank\"),\n",
    "        html.Br(),\n",
    "        html.A(\"Source Code\", href=\"https://github.com/JAlcocerT/Py_Trip_Planner/\", target=\"_blank\"),\n",
    "    ], style={'float': 'right'})\n",
    "])\n",
    "\n",
    "@app.callback(\n",
    "    Output('layer', 'children'),\n",
    "    [Input('map', 'click_lat_lng')],\n",
    ")\n",
    "# def update_markers(click_lat_lng):\n",
    "#     if not click_lat_lng:\n",
    "#         click_lat_lng = [35, 25]\n",
    "#     return [dl.Marker(position=click_lat_lng, children=dl.Tooltip(f\"({click_lat_lng[0]:.2f}, {click_lat_lng[1]:.2f})\"))]\n",
    "\n",
    "def update_markers(click_lat_lng):\n",
    "    if not click_lat_lng:\n",
    "        click_lat_lng = [35, 25]\n",
    "    return [\n",
    "        dl.Marker(position=click_lat_lng, children=dl.Tooltip(f\"({click_lat_lng[0]:.2f}, {click_lat_lng[1]:.2f})\")),\n",
    "        #dl.Marker(position=[nearest_alt, nearest_lon], children=dl.Tooltip(f\"({nearest_alt:.2f}, {nearest_lon:.2f})\"))\n",
    "        dl.CircleMarker(center=[nearest_alt, nearest_lon], color=\"#188399\",)\n",
    "    ]\n",
    "\n",
    "@app.callback(\n",
    "    [Output('weather-plot', 'figure'), Output('tmax-boxplot', 'figure')],\n",
    "    [Input('map', 'click_lat_lng'), Input('date-picker', 'start_date'), Input('date-picker', 'end_date'), Input('boxplot-variable', 'value')],\n",
    ")\n",
    "def update_weather_plots(click_lat_lng, start_date, end_date, boxplot_variable):\n",
    "    global nearest_alt, nearest_lon\n",
    "    if not click_lat_lng:\n",
    "        lat, lon = 35, 25\n",
    "    else:\n",
    "        lat = int(click_lat_lng[0])\n",
    "        lon = int(click_lat_lng[1])\n",
    "    \n",
    "   # Get nearby weather stations  - V1.2\n",
    "    stations = Stations()\n",
    "    stations = stations.nearby(lat, lon) \n",
    "    station = stations.fetch(1) #the closest station to the input location\n",
    "\n",
    "    nearest_alt = station['latitude'].values[0]\n",
    "    nearest_lon = station['longitude'].values[0]\n",
    "    ###\n",
    "\n",
    "    start = datetime(int(start_date[0:4]),\n",
    "                    int(start_date[5:7]),\n",
    "                    int(start_date[8:10]))\n",
    "    end = datetime(2022, 12, 31)\n",
    "    \n",
    "    #line_plot = plot_weather_data(lat, lon, start, end)\n",
    "    line_plot = plot_weather_data(nearest_alt, nearest_lon, start, end)\n",
    "    \n",
    "    #box_plot = plot_tmax_boxplot(lat, lon, start, end, boxplot_variable)\n",
    "    box_plot = plot_tmax_boxplot(nearest_alt, nearest_lon, start, end, boxplot_variable)\n",
    "    \n",
    "    return line_plot, box_plot\n",
    "    \n",
    "\n",
    "# Start of the application\n",
    "if __name__ == '__main__':\n",
    "    app.run_server(mode=\"inline\", port=8054)"
   ]
  }
 ],
 "metadata": {
  "kernelspec": {
   "display_name": "base",
   "language": "python",
   "name": "python3"
  },
  "language_info": {
   "codemirror_mode": {
    "name": "ipython",
    "version": 3
   },
   "file_extension": ".py",
   "mimetype": "text/x-python",
   "name": "python",
   "nbconvert_exporter": "python",
   "pygments_lexer": "ipython3",
   "version": "3.9.7"
  },
  "orig_nbformat": 4
 },
 "nbformat": 4,
 "nbformat_minor": 2
}
