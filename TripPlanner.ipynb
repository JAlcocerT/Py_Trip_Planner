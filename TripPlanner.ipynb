{
 "cells": [
  {
   "cell_type": "code",
   "execution_count": 16,
   "metadata": {},
   "outputs": [
    {
     "name": "stdout",
     "output_type": "stream",
     "text": [
      "2.7.0\n",
      "2.0.6\n",
      "1.6.5\n",
      "Plotly version: 5.11.0\n",
      "0.1.23\n",
      "0.4.2\n"
     ]
    }
   ],
   "source": [
    "#print the version of dash and dash_leaflet\n",
    "print(dash.__version__)\n",
    "print(html.__version__)\n",
    "\n",
    "import meteostat\n",
    "print(meteostat.__version__)\n",
    "import plotly\n",
    "print(f'Plotly version: {plotly.__version__}')\n",
    "print(dl.__version__)\n",
    "import jupyter_dash\n",
    "print(jupyter_dash.__version__)\n"
   ]
  },
  {
   "cell_type": "code",
   "execution_count": 1,
   "metadata": {},
   "outputs": [
    {
     "name": "stderr",
     "output_type": "stream",
     "text": [
      "C:\\Users\\JESUSA~1\\AppData\\Local\\Temp/ipykernel_18712/810616913.py:2: UserWarning: \n",
      "The dash_html_components package is deprecated. Please replace\n",
      "`import dash_html_components as html` with `from dash import html`\n",
      "  import dash_html_components as html\n"
     ]
    },
    {
     "data": {
      "text/html": [
       "\n",
       "        <iframe\n",
       "            width=\"100%\"\n",
       "            height=\"650\"\n",
       "            src=\"http://127.0.0.1:8054/\"\n",
       "            frameborder=\"0\"\n",
       "            allowfullscreen\n",
       "            \n",
       "        ></iframe>\n",
       "        "
      ],
      "text/plain": [
       "<IPython.lib.display.IFrame at 0x1b409f9c3a0>"
      ]
     },
     "metadata": {},
     "output_type": "display_data"
    }
   ],
   "source": [
    "import dash\n",
    "import dash_html_components as html\n",
    "#import dash_core_components as dcc\n",
    "from dash import dcc\n",
    "from dash.dependencies import Input, Output\n",
    "from datetime import datetime\n",
    "from meteostat import Point, Daily\n",
    "\n",
    "import plotly.express as px\n",
    "import dash_leaflet as dl\n",
    "from jupyter_dash import JupyterDash\n",
    "\n",
    "app = JupyterDash(__name__, external_stylesheets=['https://maxcdn.bootstrapcdn.com/bootstrap/4.5.2/css/bootstrap.min.css'])\n",
    "\n",
    "def plot_tmax_boxplot(lat, lon, start, end, variable):\n",
    "    location = Point(lat, lon, 70)\n",
    "    \n",
    "    data = Daily(location, start, end)\n",
    "    data = data.fetch()\n",
    "\n",
    "    data=data.reset_index()\n",
    "\n",
    "    data['month'] = data['time'].dt.month\n",
    "\n",
    "    fig = px.box(data, x='month', y=variable, title='Monthly Tmax Boxplot')\n",
    "    return fig\n",
    "\n",
    "def plot_weather_data(lat, lon, start, end):\n",
    "    location = Point(lat, lon, 70)\n",
    "    \n",
    "    data = Daily(location, start, end)\n",
    "    data = data.fetch()\n",
    "\n",
    "    data=data.reset_index()\n",
    "\n",
    "    fig = px.line(data, x='time', y=['tmin','tmax'],\n",
    "                  title=f'Temperature min/max for the Given Location ({lat:.2f},{lon:.2f})',\n",
    "                  labels={'time': 'Date', 'tmin': 'Min Temp', 'tmax': 'Max Temp'})\n",
    "\n",
    "    fig.update_yaxes(title_text='Temperature')\n",
    "\n",
    "\n",
    "    return (fig)\n",
    "\n",
    "app.layout = html.Div([\n",
    "    html.H1('Trip Planner', style={'textAlign': 'center', 'padding': '20px'}),\n",
    "    dcc.DatePickerRange(\n",
    "        id='date-picker',\n",
    "        min_date_allowed=datetime(2000, 1, 1),\n",
    "        max_date_allowed=datetime(2022, 12, 31),\n",
    "        start_date=datetime(2021, 1, 1),\n",
    "        end_date=datetime(2021, 12, 31),\n",
    "        display_format='MMM DD, YYYY'\n",
    "    ),\n",
    "    dl.Map(\n",
    "        [dl.TileLayer(), dl.LayerGroup(id=\"layer\")],\n",
    "        id='map',\n",
    "        style={'width': '100%', 'height': '50vh', 'margin': \"auto\", \"display\": \"block\"},\n",
    "        center=[35, 25],\n",
    "        zoom=4,\n",
    "        #click_lat_lng=True,\n",
    "    ),\n",
    "    dcc.Graph(id='weather-plot'),\n",
    "    html.Label('Select variable for boxplot:'),\n",
    "    dcc.Dropdown(\n",
    "        id='boxplot-variable',\n",
    "        options=[\n",
    "            {'label': 'Tmax', 'value': 'tmax'},\n",
    "            {'label': 'Tmin', 'value': 'tmin'}\n",
    "        ],\n",
    "        value='tmax'\n",
    "    ),\n",
    "    dcc.Graph(id='tmax-boxplot')\n",
    "])\n",
    "\n",
    "@app.callback(\n",
    "    Output('layer', 'children'),\n",
    "    [Input('map', 'click_lat_lng')],\n",
    ")\n",
    "def update_markers(click_lat_lng):\n",
    "    if not click_lat_lng:\n",
    "        click_lat_lng = [35, 25]\n",
    "    return [dl.Marker(position=click_lat_lng, children=dl.Tooltip(f\"({click_lat_lng[0]:.2f}, {click_lat_lng[1]:.2f})\"))]\n",
    "\n",
    "@app.callback(\n",
    "    [Output('weather-plot', 'figure'), Output('tmax-boxplot', 'figure')],\n",
    "    [Input('map', 'click_lat_lng'), Input('date-picker', 'start_date'), Input('date-picker', 'end_date'), Input('boxplot-variable', 'value')],\n",
    ")\n",
    "def update_weather_plots(click_lat_lng, start_date, end_date, boxplot_variable):\n",
    "    if not click_lat_lng:\n",
    "        lat, lon = 35, 25\n",
    "    else:\n",
    "        lat = int(click_lat_lng[0])\n",
    "        lon = int(click_lat_lng[1])\n",
    "    \n",
    "   \n",
    "    start = datetime(int(start_date[0:4]),\n",
    "                    int(start_date[5:7]),\n",
    "                    int(start_date[8:10]))\n",
    "    end = datetime(2022, 12, 31)\n",
    "    \n",
    "    line_plot = plot_weather_data(lat, lon, start, end)\n",
    "    \n",
    "    \n",
    "    box_plot = plot_tmax_boxplot(lat, lon, start, end, boxplot_variable)\n",
    "    \n",
    "    return line_plot, box_plot\n",
    "    \n",
    "\n",
    "# Start of the application\n",
    "if __name__ == '__main__':\n",
    "    app.run_server(mode=\"inline\", port=8054)\n"
   ]
  },
  {
   "cell_type": "code",
   "execution_count": null,
   "metadata": {},
   "outputs": [],
   "source": []
  }
 ],
 "metadata": {
  "kernelspec": {
   "display_name": "base",
   "language": "python",
   "name": "python3"
  },
  "language_info": {
   "codemirror_mode": {
    "name": "ipython",
    "version": 3
   },
   "file_extension": ".py",
   "mimetype": "text/x-python",
   "name": "python",
   "nbconvert_exporter": "python",
   "pygments_lexer": "ipython3",
   "version": "3.9.7"
  },
  "orig_nbformat": 4
 },
 "nbformat": 4,
 "nbformat_minor": 2
}
